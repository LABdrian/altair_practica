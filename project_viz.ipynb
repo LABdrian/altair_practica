{
 "cells": [
  {
   "cell_type": "code",
   "execution_count": 1,
   "id": "528c933f-764b-4940-ab4e-5bdeb9c02ec4",
   "metadata": {},
   "outputs": [
    {
     "data": {
      "text/html": [
       "<div>\n",
       "<style scoped>\n",
       "    .dataframe tbody tr th:only-of-type {\n",
       "        vertical-align: middle;\n",
       "    }\n",
       "\n",
       "    .dataframe tbody tr th {\n",
       "        vertical-align: top;\n",
       "    }\n",
       "\n",
       "    .dataframe thead th {\n",
       "        text-align: right;\n",
       "    }\n",
       "</style>\n",
       "<table border=\"1\" class=\"dataframe\">\n",
       "  <thead>\n",
       "    <tr style=\"text-align: right;\">\n",
       "      <th></th>\n",
       "      <th>year</th>\n",
       "      <th>country</th>\n",
       "      <th>cluster</th>\n",
       "      <th>pop</th>\n",
       "      <th>life_expect</th>\n",
       "      <th>fertility</th>\n",
       "    </tr>\n",
       "  </thead>\n",
       "  <tbody>\n",
       "    <tr>\n",
       "      <th>0</th>\n",
       "      <td>1955</td>\n",
       "      <td>Afghanistan</td>\n",
       "      <td>0</td>\n",
       "      <td>8891209</td>\n",
       "      <td>30.332</td>\n",
       "      <td>7.7000</td>\n",
       "    </tr>\n",
       "    <tr>\n",
       "      <th>1</th>\n",
       "      <td>1960</td>\n",
       "      <td>Afghanistan</td>\n",
       "      <td>0</td>\n",
       "      <td>9829450</td>\n",
       "      <td>31.997</td>\n",
       "      <td>7.7000</td>\n",
       "    </tr>\n",
       "    <tr>\n",
       "      <th>2</th>\n",
       "      <td>1965</td>\n",
       "      <td>Afghanistan</td>\n",
       "      <td>0</td>\n",
       "      <td>10997885</td>\n",
       "      <td>34.020</td>\n",
       "      <td>7.7000</td>\n",
       "    </tr>\n",
       "    <tr>\n",
       "      <th>3</th>\n",
       "      <td>1970</td>\n",
       "      <td>Afghanistan</td>\n",
       "      <td>0</td>\n",
       "      <td>12430623</td>\n",
       "      <td>36.088</td>\n",
       "      <td>7.7000</td>\n",
       "    </tr>\n",
       "    <tr>\n",
       "      <th>4</th>\n",
       "      <td>1975</td>\n",
       "      <td>Afghanistan</td>\n",
       "      <td>0</td>\n",
       "      <td>14132019</td>\n",
       "      <td>38.438</td>\n",
       "      <td>7.7000</td>\n",
       "    </tr>\n",
       "    <tr>\n",
       "      <th>...</th>\n",
       "      <td>...</td>\n",
       "      <td>...</td>\n",
       "      <td>...</td>\n",
       "      <td>...</td>\n",
       "      <td>...</td>\n",
       "      <td>...</td>\n",
       "    </tr>\n",
       "    <tr>\n",
       "      <th>688</th>\n",
       "      <td>1985</td>\n",
       "      <td>Venezuela</td>\n",
       "      <td>3</td>\n",
       "      <td>16997509</td>\n",
       "      <td>70.190</td>\n",
       "      <td>3.6485</td>\n",
       "    </tr>\n",
       "    <tr>\n",
       "      <th>689</th>\n",
       "      <td>1990</td>\n",
       "      <td>Venezuela</td>\n",
       "      <td>3</td>\n",
       "      <td>19325222</td>\n",
       "      <td>71.150</td>\n",
       "      <td>3.2500</td>\n",
       "    </tr>\n",
       "    <tr>\n",
       "      <th>690</th>\n",
       "      <td>1995</td>\n",
       "      <td>Venezuela</td>\n",
       "      <td>3</td>\n",
       "      <td>21555902</td>\n",
       "      <td>72.146</td>\n",
       "      <td>2.9415</td>\n",
       "    </tr>\n",
       "    <tr>\n",
       "      <th>691</th>\n",
       "      <td>2000</td>\n",
       "      <td>Venezuela</td>\n",
       "      <td>3</td>\n",
       "      <td>23542649</td>\n",
       "      <td>72.766</td>\n",
       "      <td>2.7230</td>\n",
       "    </tr>\n",
       "    <tr>\n",
       "      <th>692</th>\n",
       "      <td>2005</td>\n",
       "      <td>Venezuela</td>\n",
       "      <td>3</td>\n",
       "      <td>25375281</td>\n",
       "      <td>73.747</td>\n",
       "      <td>2.5470</td>\n",
       "    </tr>\n",
       "  </tbody>\n",
       "</table>\n",
       "<p>693 rows × 6 columns</p>\n",
       "</div>"
      ],
      "text/plain": [
       "     year      country  cluster       pop  life_expect  fertility\n",
       "0    1955  Afghanistan        0   8891209       30.332     7.7000\n",
       "1    1960  Afghanistan        0   9829450       31.997     7.7000\n",
       "2    1965  Afghanistan        0  10997885       34.020     7.7000\n",
       "3    1970  Afghanistan        0  12430623       36.088     7.7000\n",
       "4    1975  Afghanistan        0  14132019       38.438     7.7000\n",
       "..    ...          ...      ...       ...          ...        ...\n",
       "688  1985    Venezuela        3  16997509       70.190     3.6485\n",
       "689  1990    Venezuela        3  19325222       71.150     3.2500\n",
       "690  1995    Venezuela        3  21555902       72.146     2.9415\n",
       "691  2000    Venezuela        3  23542649       72.766     2.7230\n",
       "692  2005    Venezuela        3  25375281       73.747     2.5470\n",
       "\n",
       "[693 rows x 6 columns]"
      ]
     },
     "execution_count": 1,
     "metadata": {},
     "output_type": "execute_result"
    }
   ],
   "source": [
    "import pandas as pd\n",
    "import altair as alt\n",
    "from vega_datasets import data\n",
    "data= data.gapminder()\n",
    "data\n"
   ]
  },
  {
   "cell_type": "code",
   "execution_count": 2,
   "id": "bd5537ef-12c4-45b0-a5f7-f1de303bf570",
   "metadata": {
    "tags": []
   },
   "outputs": [],
   "source": [
    "## BARCHART"
   ]
  },
  {
   "cell_type": "code",
   "execution_count": 3,
   "id": "9e09eefc-69b2-4d93-8877-f78ff0c95159",
   "metadata": {},
   "outputs": [
    {
     "data": {
      "text/plain": [
       "array(['Afghanistan', 'Argentina', 'Aruba', 'Australia', 'Austria',\n",
       "       'Bahamas', 'Bangladesh', 'Barbados', 'Belgium', 'Bolivia',\n",
       "       'Brazil', 'Canada', 'Chile', 'China', 'Colombia', 'Costa Rica',\n",
       "       'Croatia', 'Cuba', 'Dominican Republic', 'Ecuador', 'Egypt',\n",
       "       'El Salvador', 'Finland', 'France', 'Georgia', 'Germany', 'Greece',\n",
       "       'Grenada', 'Haiti', 'Hong Kong', 'Iceland', 'India', 'Indonesia',\n",
       "       'Iran', 'Iraq', 'Ireland', 'Israel', 'Italy', 'Jamaica', 'Japan',\n",
       "       'Kenya', 'South Korea', 'North Korea', 'Lebanon', 'Mexico',\n",
       "       'Netherlands', 'New Zealand', 'Nigeria', 'Norway', 'Pakistan',\n",
       "       'Peru', 'Philippines', 'Poland', 'Portugal', 'Rwanda',\n",
       "       'Saudi Arabia', 'South Africa', 'Spain', 'Switzerland', 'Turkey',\n",
       "       'United Kingdom', 'United States', 'Venezuela'], dtype=object)"
      ]
     },
     "execution_count": 3,
     "metadata": {},
     "output_type": "execute_result"
    }
   ],
   "source": [
    "data.country.unique()"
   ]
  },
  {
   "cell_type": "code",
   "execution_count": 4,
   "id": "f68bdd4d-7cc8-49e1-846e-1dd4c38d8900",
   "metadata": {},
   "outputs": [],
   "source": [
    "pais = 'Cuba'\n"
   ]
  },
  {
   "cell_type": "code",
   "execution_count": 5,
   "id": "ea8d1a17-e514-48ef-80df-7159f67c5f67",
   "metadata": {},
   "outputs": [],
   "source": [
    "data_pais = data [data ['country']==pais]"
   ]
  },
  {
   "cell_type": "code",
   "execution_count": 6,
   "id": "025be3db-0dab-4bb0-a999-22fca65e7b18",
   "metadata": {},
   "outputs": [
    {
     "name": "stderr",
     "output_type": "stream",
     "text": [
      "C:\\Users\\German Castro\\ciencia_datos\\viz\\envirtual\\Lib\\site-packages\\altair\\utils\\core.py:317: FutureWarning: iteritems is deprecated and will be removed in a future version. Use .items instead.\n",
      "  for col_name, dtype in df.dtypes.iteritems():\n"
     ]
    },
    {
     "data": {
      "text/html": [
       "\n",
       "<div id=\"altair-viz-9d29a5a0f6804b4fa14bf58a9e211747\"></div>\n",
       "<script type=\"text/javascript\">\n",
       "  (function(spec, embedOpt){\n",
       "    let outputDiv = document.currentScript.previousElementSibling;\n",
       "    if (outputDiv.id !== \"altair-viz-9d29a5a0f6804b4fa14bf58a9e211747\") {\n",
       "      outputDiv = document.getElementById(\"altair-viz-9d29a5a0f6804b4fa14bf58a9e211747\");\n",
       "    }\n",
       "    const paths = {\n",
       "      \"vega\": \"https://cdn.jsdelivr.net/npm//vega@5?noext\",\n",
       "      \"vega-lib\": \"https://cdn.jsdelivr.net/npm//vega-lib?noext\",\n",
       "      \"vega-lite\": \"https://cdn.jsdelivr.net/npm//vega-lite@4.17.0?noext\",\n",
       "      \"vega-embed\": \"https://cdn.jsdelivr.net/npm//vega-embed@6?noext\",\n",
       "    };\n",
       "\n",
       "    function loadScript(lib) {\n",
       "      return new Promise(function(resolve, reject) {\n",
       "        var s = document.createElement('script');\n",
       "        s.src = paths[lib];\n",
       "        s.async = true;\n",
       "        s.onload = () => resolve(paths[lib]);\n",
       "        s.onerror = () => reject(`Error loading script: ${paths[lib]}`);\n",
       "        document.getElementsByTagName(\"head\")[0].appendChild(s);\n",
       "      });\n",
       "    }\n",
       "\n",
       "    function showError(err) {\n",
       "      outputDiv.innerHTML = `<div class=\"error\" style=\"color:red;\">${err}</div>`;\n",
       "      throw err;\n",
       "    }\n",
       "\n",
       "    function displayChart(vegaEmbed) {\n",
       "      vegaEmbed(outputDiv, spec, embedOpt)\n",
       "        .catch(err => showError(`Javascript Error: ${err.message}<br>This usually means there's a typo in your chart specification. See the javascript console for the full traceback.`));\n",
       "    }\n",
       "\n",
       "    if(typeof define === \"function\" && define.amd) {\n",
       "      requirejs.config({paths});\n",
       "      require([\"vega-embed\"], displayChart, err => showError(`Error loading script: ${err.message}`));\n",
       "    } else if (typeof vegaEmbed === \"function\") {\n",
       "      displayChart(vegaEmbed);\n",
       "    } else {\n",
       "      loadScript(\"vega\")\n",
       "        .then(() => loadScript(\"vega-lite\"))\n",
       "        .then(() => loadScript(\"vega-embed\"))\n",
       "        .catch(showError)\n",
       "        .then(() => displayChart(vegaEmbed));\n",
       "    }\n",
       "  })({\"config\": {\"view\": {\"continuousWidth\": 400, \"continuousHeight\": 300}}, \"data\": {\"name\": \"data-7eae0e229dbcbec0824cda5b85200156\"}, \"mark\": \"bar\", \"encoding\": {\"x\": {\"field\": \"year\", \"type\": \"quantitative\"}, \"y\": {\"field\": \"pop\", \"type\": \"quantitative\"}}, \"$schema\": \"https://vega.github.io/schema/vega-lite/v4.17.0.json\", \"datasets\": {\"data-7eae0e229dbcbec0824cda5b85200156\": [{\"year\": 1955, \"country\": \"Cuba\", \"cluster\": 3, \"pop\": 6381106, \"life_expect\": 62.325, \"fertility\": 3.6995}, {\"year\": 1960, \"country\": \"Cuba\", \"cluster\": 3, \"pop\": 7027210, \"life_expect\": 65.246, \"fertility\": 4.6805}, {\"year\": 1965, \"country\": \"Cuba\", \"cluster\": 3, \"pop\": 7809916, \"life_expect\": 68.29, \"fertility\": 4.3}, {\"year\": 1970, \"country\": \"Cuba\", \"cluster\": 3, \"pop\": 8542746, \"life_expect\": 70.723, \"fertility\": 3.6}, {\"year\": 1975, \"country\": \"Cuba\", \"cluster\": 3, \"pop\": 9290074, \"life_expect\": 72.649, \"fertility\": 2.15}, {\"year\": 1980, \"country\": \"Cuba\", \"cluster\": 3, \"pop\": 9652975, \"life_expect\": 73.717, \"fertility\": 1.8495}, {\"year\": 1985, \"country\": \"Cuba\", \"cluster\": 3, \"pop\": 10078658, \"life_expect\": 74.174, \"fertility\": 1.8495}, {\"year\": 1990, \"country\": \"Cuba\", \"cluster\": 3, \"pop\": 10544793, \"life_expect\": 74.414, \"fertility\": 1.6505}, {\"year\": 1995, \"country\": \"Cuba\", \"cluster\": 3, \"pop\": 10896802, \"life_expect\": 76.151, \"fertility\": 1.6095000000000002}, {\"year\": 2000, \"country\": \"Cuba\", \"cluster\": 3, \"pop\": 11134273, \"life_expect\": 77.158, \"fertility\": 1.63}, {\"year\": 2005, \"country\": \"Cuba\", \"cluster\": 3, \"pop\": 11346670, \"life_expect\": 78.273, \"fertility\": 1.49}]}}, {\"mode\": \"vega-lite\"});\n",
       "</script>"
      ],
      "text/plain": [
       "alt.Chart(...)"
      ]
     },
     "execution_count": 6,
     "metadata": {},
     "output_type": "execute_result"
    }
   ],
   "source": [
    "alt.Chart(data_pais).mark_bar().encode(\n",
    "    x= 'year:Q',\n",
    "    y= 'pop',\n",
    ")"
   ]
  },
  {
   "cell_type": "code",
   "execution_count": 7,
   "id": "c41a81b4-3c30-4246-a148-bd305429bb95",
   "metadata": {},
   "outputs": [],
   "source": [
    "##BARCHART+"
   ]
  },
  {
   "cell_type": "code",
   "execution_count": 68,
   "id": "f3f37aba-b903-4886-be04-df84759ed067",
   "metadata": {},
   "outputs": [],
   "source": [
    "barras = alt.Chart(data_pais).mark_bar(color = '#FD8A8A').encode(\n",
    "    x= alt.X('year:O',title='',axis= alt.Axis(labelAngle=0)),\n",
    "    y= alt.Y('pop:Q',title='',axis=alt.Axis(format = '.2s',labels = False, domain = False, ticks = False, grid = False) ),\n",
    "    tooltip=alt.Tooltip('pop')\n",
    ").properties(\n",
    "    title = f\"Poblacion de {pais} de 1955 a 2005\",\n",
    "    width = 600,\n",
    ")"
   ]
  },
  {
   "cell_type": "code",
   "execution_count": 69,
   "id": "dd952b5a-c7d2-4b02-afac-e51eb66e23c1",
   "metadata": {},
   "outputs": [
    {
     "data": {
      "text/html": [
       "\n",
       "<div id=\"altair-viz-962c56b42ab540a8ac86f8309aef9f36\"></div>\n",
       "<script type=\"text/javascript\">\n",
       "  (function(spec, embedOpt){\n",
       "    let outputDiv = document.currentScript.previousElementSibling;\n",
       "    if (outputDiv.id !== \"altair-viz-962c56b42ab540a8ac86f8309aef9f36\") {\n",
       "      outputDiv = document.getElementById(\"altair-viz-962c56b42ab540a8ac86f8309aef9f36\");\n",
       "    }\n",
       "    const paths = {\n",
       "      \"vega\": \"https://cdn.jsdelivr.net/npm//vega@5?noext\",\n",
       "      \"vega-lib\": \"https://cdn.jsdelivr.net/npm//vega-lib?noext\",\n",
       "      \"vega-lite\": \"https://cdn.jsdelivr.net/npm//vega-lite@4.17.0?noext\",\n",
       "      \"vega-embed\": \"https://cdn.jsdelivr.net/npm//vega-embed@6?noext\",\n",
       "    };\n",
       "\n",
       "    function loadScript(lib) {\n",
       "      return new Promise(function(resolve, reject) {\n",
       "        var s = document.createElement('script');\n",
       "        s.src = paths[lib];\n",
       "        s.async = true;\n",
       "        s.onload = () => resolve(paths[lib]);\n",
       "        s.onerror = () => reject(`Error loading script: ${paths[lib]}`);\n",
       "        document.getElementsByTagName(\"head\")[0].appendChild(s);\n",
       "      });\n",
       "    }\n",
       "\n",
       "    function showError(err) {\n",
       "      outputDiv.innerHTML = `<div class=\"error\" style=\"color:red;\">${err}</div>`;\n",
       "      throw err;\n",
       "    }\n",
       "\n",
       "    function displayChart(vegaEmbed) {\n",
       "      vegaEmbed(outputDiv, spec, embedOpt)\n",
       "        .catch(err => showError(`Javascript Error: ${err.message}<br>This usually means there's a typo in your chart specification. See the javascript console for the full traceback.`));\n",
       "    }\n",
       "\n",
       "    if(typeof define === \"function\" && define.amd) {\n",
       "      requirejs.config({paths});\n",
       "      require([\"vega-embed\"], displayChart, err => showError(`Error loading script: ${err.message}`));\n",
       "    } else if (typeof vegaEmbed === \"function\") {\n",
       "      displayChart(vegaEmbed);\n",
       "    } else {\n",
       "      loadScript(\"vega\")\n",
       "        .then(() => loadScript(\"vega-lite\"))\n",
       "        .then(() => loadScript(\"vega-embed\"))\n",
       "        .catch(showError)\n",
       "        .then(() => displayChart(vegaEmbed));\n",
       "    }\n",
       "  })({\"config\": {\"view\": {\"continuousWidth\": 400, \"continuousHeight\": 300}}, \"data\": {\"name\": \"data-7eae0e229dbcbec0824cda5b85200156\"}, \"mark\": {\"type\": \"bar\", \"color\": \"#FD8A8A\"}, \"encoding\": {\"tooltip\": {\"field\": \"pop\", \"type\": \"quantitative\"}, \"x\": {\"axis\": {\"labelAngle\": 0}, \"field\": \"year\", \"title\": \"\", \"type\": \"ordinal\"}, \"y\": {\"axis\": {\"domain\": false, \"format\": \".2s\", \"grid\": false, \"labels\": false, \"ticks\": false}, \"field\": \"pop\", \"title\": \"\", \"type\": \"quantitative\"}}, \"title\": \"Poblacion de Cuba de 1955 a 2005\", \"width\": 600, \"$schema\": \"https://vega.github.io/schema/vega-lite/v4.17.0.json\", \"datasets\": {\"data-7eae0e229dbcbec0824cda5b85200156\": [{\"year\": 1955, \"country\": \"Cuba\", \"cluster\": 3, \"pop\": 6381106, \"life_expect\": 62.325, \"fertility\": 3.6995}, {\"year\": 1960, \"country\": \"Cuba\", \"cluster\": 3, \"pop\": 7027210, \"life_expect\": 65.246, \"fertility\": 4.6805}, {\"year\": 1965, \"country\": \"Cuba\", \"cluster\": 3, \"pop\": 7809916, \"life_expect\": 68.29, \"fertility\": 4.3}, {\"year\": 1970, \"country\": \"Cuba\", \"cluster\": 3, \"pop\": 8542746, \"life_expect\": 70.723, \"fertility\": 3.6}, {\"year\": 1975, \"country\": \"Cuba\", \"cluster\": 3, \"pop\": 9290074, \"life_expect\": 72.649, \"fertility\": 2.15}, {\"year\": 1980, \"country\": \"Cuba\", \"cluster\": 3, \"pop\": 9652975, \"life_expect\": 73.717, \"fertility\": 1.8495}, {\"year\": 1985, \"country\": \"Cuba\", \"cluster\": 3, \"pop\": 10078658, \"life_expect\": 74.174, \"fertility\": 1.8495}, {\"year\": 1990, \"country\": \"Cuba\", \"cluster\": 3, \"pop\": 10544793, \"life_expect\": 74.414, \"fertility\": 1.6505}, {\"year\": 1995, \"country\": \"Cuba\", \"cluster\": 3, \"pop\": 10896802, \"life_expect\": 76.151, \"fertility\": 1.6095000000000002}, {\"year\": 2000, \"country\": \"Cuba\", \"cluster\": 3, \"pop\": 11134273, \"life_expect\": 77.158, \"fertility\": 1.63}, {\"year\": 2005, \"country\": \"Cuba\", \"cluster\": 3, \"pop\": 11346670, \"life_expect\": 78.273, \"fertility\": 1.49}]}}, {\"mode\": \"vega-lite\"});\n",
       "</script>"
      ],
      "text/plain": [
       "alt.Chart(...)"
      ]
     },
     "execution_count": 69,
     "metadata": {},
     "output_type": "execute_result"
    }
   ],
   "source": [
    "barras"
   ]
  },
  {
   "cell_type": "code",
   "execution_count": 70,
   "id": "6e4ec6ce-0c55-4722-8ccd-c1b60289ddbe",
   "metadata": {},
   "outputs": [],
   "source": [
    "## visualizaiones complejas compuestas y mas interactivas"
   ]
  },
  {
   "cell_type": "code",
   "execution_count": 71,
   "id": "9c50d77a-a43a-4e14-8ccc-dede1b965113",
   "metadata": {},
   "outputs": [],
   "source": [
    "etiquetas = barras.mark_text().encode(\n",
    "    text = 'pop:Q',\n",
    ")\n"
   ]
  },
  {
   "cell_type": "code",
   "execution_count": 72,
   "id": "76fc5a89-747c-4eae-a1fa-076bf02093b8",
   "metadata": {},
   "outputs": [
    {
     "data": {
      "text/html": [
       "\n",
       "<div id=\"altair-viz-eabc298d91f1425e9af7747f0d305968\"></div>\n",
       "<script type=\"text/javascript\">\n",
       "  (function(spec, embedOpt){\n",
       "    let outputDiv = document.currentScript.previousElementSibling;\n",
       "    if (outputDiv.id !== \"altair-viz-eabc298d91f1425e9af7747f0d305968\") {\n",
       "      outputDiv = document.getElementById(\"altair-viz-eabc298d91f1425e9af7747f0d305968\");\n",
       "    }\n",
       "    const paths = {\n",
       "      \"vega\": \"https://cdn.jsdelivr.net/npm//vega@5?noext\",\n",
       "      \"vega-lib\": \"https://cdn.jsdelivr.net/npm//vega-lib?noext\",\n",
       "      \"vega-lite\": \"https://cdn.jsdelivr.net/npm//vega-lite@4.17.0?noext\",\n",
       "      \"vega-embed\": \"https://cdn.jsdelivr.net/npm//vega-embed@6?noext\",\n",
       "    };\n",
       "\n",
       "    function loadScript(lib) {\n",
       "      return new Promise(function(resolve, reject) {\n",
       "        var s = document.createElement('script');\n",
       "        s.src = paths[lib];\n",
       "        s.async = true;\n",
       "        s.onload = () => resolve(paths[lib]);\n",
       "        s.onerror = () => reject(`Error loading script: ${paths[lib]}`);\n",
       "        document.getElementsByTagName(\"head\")[0].appendChild(s);\n",
       "      });\n",
       "    }\n",
       "\n",
       "    function showError(err) {\n",
       "      outputDiv.innerHTML = `<div class=\"error\" style=\"color:red;\">${err}</div>`;\n",
       "      throw err;\n",
       "    }\n",
       "\n",
       "    function displayChart(vegaEmbed) {\n",
       "      vegaEmbed(outputDiv, spec, embedOpt)\n",
       "        .catch(err => showError(`Javascript Error: ${err.message}<br>This usually means there's a typo in your chart specification. See the javascript console for the full traceback.`));\n",
       "    }\n",
       "\n",
       "    if(typeof define === \"function\" && define.amd) {\n",
       "      requirejs.config({paths});\n",
       "      require([\"vega-embed\"], displayChart, err => showError(`Error loading script: ${err.message}`));\n",
       "    } else if (typeof vegaEmbed === \"function\") {\n",
       "      displayChart(vegaEmbed);\n",
       "    } else {\n",
       "      loadScript(\"vega\")\n",
       "        .then(() => loadScript(\"vega-lite\"))\n",
       "        .then(() => loadScript(\"vega-embed\"))\n",
       "        .catch(showError)\n",
       "        .then(() => displayChart(vegaEmbed));\n",
       "    }\n",
       "  })({\"config\": {\"view\": {\"continuousWidth\": 400, \"continuousHeight\": 300}}, \"data\": {\"name\": \"data-7eae0e229dbcbec0824cda5b85200156\"}, \"mark\": \"text\", \"encoding\": {\"text\": {\"field\": \"pop\", \"type\": \"quantitative\"}, \"tooltip\": {\"field\": \"pop\", \"type\": \"quantitative\"}, \"x\": {\"axis\": {\"labelAngle\": 0}, \"field\": \"year\", \"title\": \"\", \"type\": \"ordinal\"}, \"y\": {\"axis\": {\"domain\": false, \"format\": \".2s\", \"grid\": false, \"labels\": false, \"ticks\": false}, \"field\": \"pop\", \"title\": \"\", \"type\": \"quantitative\"}}, \"title\": \"Poblacion de Cuba de 1955 a 2005\", \"width\": 600, \"$schema\": \"https://vega.github.io/schema/vega-lite/v4.17.0.json\", \"datasets\": {\"data-7eae0e229dbcbec0824cda5b85200156\": [{\"year\": 1955, \"country\": \"Cuba\", \"cluster\": 3, \"pop\": 6381106, \"life_expect\": 62.325, \"fertility\": 3.6995}, {\"year\": 1960, \"country\": \"Cuba\", \"cluster\": 3, \"pop\": 7027210, \"life_expect\": 65.246, \"fertility\": 4.6805}, {\"year\": 1965, \"country\": \"Cuba\", \"cluster\": 3, \"pop\": 7809916, \"life_expect\": 68.29, \"fertility\": 4.3}, {\"year\": 1970, \"country\": \"Cuba\", \"cluster\": 3, \"pop\": 8542746, \"life_expect\": 70.723, \"fertility\": 3.6}, {\"year\": 1975, \"country\": \"Cuba\", \"cluster\": 3, \"pop\": 9290074, \"life_expect\": 72.649, \"fertility\": 2.15}, {\"year\": 1980, \"country\": \"Cuba\", \"cluster\": 3, \"pop\": 9652975, \"life_expect\": 73.717, \"fertility\": 1.8495}, {\"year\": 1985, \"country\": \"Cuba\", \"cluster\": 3, \"pop\": 10078658, \"life_expect\": 74.174, \"fertility\": 1.8495}, {\"year\": 1990, \"country\": \"Cuba\", \"cluster\": 3, \"pop\": 10544793, \"life_expect\": 74.414, \"fertility\": 1.6505}, {\"year\": 1995, \"country\": \"Cuba\", \"cluster\": 3, \"pop\": 10896802, \"life_expect\": 76.151, \"fertility\": 1.6095000000000002}, {\"year\": 2000, \"country\": \"Cuba\", \"cluster\": 3, \"pop\": 11134273, \"life_expect\": 77.158, \"fertility\": 1.63}, {\"year\": 2005, \"country\": \"Cuba\", \"cluster\": 3, \"pop\": 11346670, \"life_expect\": 78.273, \"fertility\": 1.49}]}}, {\"mode\": \"vega-lite\"});\n",
       "</script>"
      ],
      "text/plain": [
       "alt.Chart(...)"
      ]
     },
     "execution_count": 72,
     "metadata": {},
     "output_type": "execute_result"
    }
   ],
   "source": [
    "etiquetas"
   ]
  },
  {
   "cell_type": "code",
   "execution_count": 73,
   "id": "7c5299b5-ffa4-40ef-bc00-6ac1f49a6d57",
   "metadata": {},
   "outputs": [],
   "source": [
    "etiquetas = barras.mark_text(dy = -5).encode(\n",
    "    text = alt.Text('pop:Q', format ='.2s'),\n",
    ")"
   ]
  },
  {
   "cell_type": "code",
   "execution_count": 74,
   "id": "7b429713-91ae-4982-980f-260a0fc5d1ad",
   "metadata": {},
   "outputs": [
    {
     "data": {
      "text/html": [
       "\n",
       "<div id=\"altair-viz-4c314396a60d4f6bb89d9762368faeb6\"></div>\n",
       "<script type=\"text/javascript\">\n",
       "  (function(spec, embedOpt){\n",
       "    let outputDiv = document.currentScript.previousElementSibling;\n",
       "    if (outputDiv.id !== \"altair-viz-4c314396a60d4f6bb89d9762368faeb6\") {\n",
       "      outputDiv = document.getElementById(\"altair-viz-4c314396a60d4f6bb89d9762368faeb6\");\n",
       "    }\n",
       "    const paths = {\n",
       "      \"vega\": \"https://cdn.jsdelivr.net/npm//vega@5?noext\",\n",
       "      \"vega-lib\": \"https://cdn.jsdelivr.net/npm//vega-lib?noext\",\n",
       "      \"vega-lite\": \"https://cdn.jsdelivr.net/npm//vega-lite@4.17.0?noext\",\n",
       "      \"vega-embed\": \"https://cdn.jsdelivr.net/npm//vega-embed@6?noext\",\n",
       "    };\n",
       "\n",
       "    function loadScript(lib) {\n",
       "      return new Promise(function(resolve, reject) {\n",
       "        var s = document.createElement('script');\n",
       "        s.src = paths[lib];\n",
       "        s.async = true;\n",
       "        s.onload = () => resolve(paths[lib]);\n",
       "        s.onerror = () => reject(`Error loading script: ${paths[lib]}`);\n",
       "        document.getElementsByTagName(\"head\")[0].appendChild(s);\n",
       "      });\n",
       "    }\n",
       "\n",
       "    function showError(err) {\n",
       "      outputDiv.innerHTML = `<div class=\"error\" style=\"color:red;\">${err}</div>`;\n",
       "      throw err;\n",
       "    }\n",
       "\n",
       "    function displayChart(vegaEmbed) {\n",
       "      vegaEmbed(outputDiv, spec, embedOpt)\n",
       "        .catch(err => showError(`Javascript Error: ${err.message}<br>This usually means there's a typo in your chart specification. See the javascript console for the full traceback.`));\n",
       "    }\n",
       "\n",
       "    if(typeof define === \"function\" && define.amd) {\n",
       "      requirejs.config({paths});\n",
       "      require([\"vega-embed\"], displayChart, err => showError(`Error loading script: ${err.message}`));\n",
       "    } else if (typeof vegaEmbed === \"function\") {\n",
       "      displayChart(vegaEmbed);\n",
       "    } else {\n",
       "      loadScript(\"vega\")\n",
       "        .then(() => loadScript(\"vega-lite\"))\n",
       "        .then(() => loadScript(\"vega-embed\"))\n",
       "        .catch(showError)\n",
       "        .then(() => displayChart(vegaEmbed));\n",
       "    }\n",
       "  })({\"config\": {\"view\": {\"continuousWidth\": 400, \"continuousHeight\": 300}}, \"data\": {\"name\": \"data-7eae0e229dbcbec0824cda5b85200156\"}, \"mark\": {\"type\": \"text\", \"dy\": -5}, \"encoding\": {\"text\": {\"field\": \"pop\", \"format\": \".2s\", \"type\": \"quantitative\"}, \"tooltip\": {\"field\": \"pop\", \"type\": \"quantitative\"}, \"x\": {\"axis\": {\"labelAngle\": 0}, \"field\": \"year\", \"title\": \"\", \"type\": \"ordinal\"}, \"y\": {\"axis\": {\"domain\": false, \"format\": \".2s\", \"grid\": false, \"labels\": false, \"ticks\": false}, \"field\": \"pop\", \"title\": \"\", \"type\": \"quantitative\"}}, \"title\": \"Poblacion de Cuba de 1955 a 2005\", \"width\": 600, \"$schema\": \"https://vega.github.io/schema/vega-lite/v4.17.0.json\", \"datasets\": {\"data-7eae0e229dbcbec0824cda5b85200156\": [{\"year\": 1955, \"country\": \"Cuba\", \"cluster\": 3, \"pop\": 6381106, \"life_expect\": 62.325, \"fertility\": 3.6995}, {\"year\": 1960, \"country\": \"Cuba\", \"cluster\": 3, \"pop\": 7027210, \"life_expect\": 65.246, \"fertility\": 4.6805}, {\"year\": 1965, \"country\": \"Cuba\", \"cluster\": 3, \"pop\": 7809916, \"life_expect\": 68.29, \"fertility\": 4.3}, {\"year\": 1970, \"country\": \"Cuba\", \"cluster\": 3, \"pop\": 8542746, \"life_expect\": 70.723, \"fertility\": 3.6}, {\"year\": 1975, \"country\": \"Cuba\", \"cluster\": 3, \"pop\": 9290074, \"life_expect\": 72.649, \"fertility\": 2.15}, {\"year\": 1980, \"country\": \"Cuba\", \"cluster\": 3, \"pop\": 9652975, \"life_expect\": 73.717, \"fertility\": 1.8495}, {\"year\": 1985, \"country\": \"Cuba\", \"cluster\": 3, \"pop\": 10078658, \"life_expect\": 74.174, \"fertility\": 1.8495}, {\"year\": 1990, \"country\": \"Cuba\", \"cluster\": 3, \"pop\": 10544793, \"life_expect\": 74.414, \"fertility\": 1.6505}, {\"year\": 1995, \"country\": \"Cuba\", \"cluster\": 3, \"pop\": 10896802, \"life_expect\": 76.151, \"fertility\": 1.6095000000000002}, {\"year\": 2000, \"country\": \"Cuba\", \"cluster\": 3, \"pop\": 11134273, \"life_expect\": 77.158, \"fertility\": 1.63}, {\"year\": 2005, \"country\": \"Cuba\", \"cluster\": 3, \"pop\": 11346670, \"life_expect\": 78.273, \"fertility\": 1.49}]}}, {\"mode\": \"vega-lite\"});\n",
       "</script>"
      ],
      "text/plain": [
       "alt.Chart(...)"
      ]
     },
     "execution_count": 74,
     "metadata": {},
     "output_type": "execute_result"
    }
   ],
   "source": [
    "etiquetas"
   ]
  },
  {
   "cell_type": "code",
   "execution_count": 75,
   "id": "233a1529-6b46-4f0d-b907-88d8957ce76e",
   "metadata": {},
   "outputs": [],
   "source": [
    "chart_final = barras + etiquetas"
   ]
  },
  {
   "cell_type": "code",
   "execution_count": 76,
   "id": "5d203ca9-702b-4009-a93f-a1ad690f1c00",
   "metadata": {},
   "outputs": [
    {
     "data": {
      "text/html": [
       "\n",
       "<div id=\"altair-viz-fa88e2a6180b4be1994e18e27fc140d2\"></div>\n",
       "<script type=\"text/javascript\">\n",
       "  (function(spec, embedOpt){\n",
       "    let outputDiv = document.currentScript.previousElementSibling;\n",
       "    if (outputDiv.id !== \"altair-viz-fa88e2a6180b4be1994e18e27fc140d2\") {\n",
       "      outputDiv = document.getElementById(\"altair-viz-fa88e2a6180b4be1994e18e27fc140d2\");\n",
       "    }\n",
       "    const paths = {\n",
       "      \"vega\": \"https://cdn.jsdelivr.net/npm//vega@5?noext\",\n",
       "      \"vega-lib\": \"https://cdn.jsdelivr.net/npm//vega-lib?noext\",\n",
       "      \"vega-lite\": \"https://cdn.jsdelivr.net/npm//vega-lite@4.17.0?noext\",\n",
       "      \"vega-embed\": \"https://cdn.jsdelivr.net/npm//vega-embed@6?noext\",\n",
       "    };\n",
       "\n",
       "    function loadScript(lib) {\n",
       "      return new Promise(function(resolve, reject) {\n",
       "        var s = document.createElement('script');\n",
       "        s.src = paths[lib];\n",
       "        s.async = true;\n",
       "        s.onload = () => resolve(paths[lib]);\n",
       "        s.onerror = () => reject(`Error loading script: ${paths[lib]}`);\n",
       "        document.getElementsByTagName(\"head\")[0].appendChild(s);\n",
       "      });\n",
       "    }\n",
       "\n",
       "    function showError(err) {\n",
       "      outputDiv.innerHTML = `<div class=\"error\" style=\"color:red;\">${err}</div>`;\n",
       "      throw err;\n",
       "    }\n",
       "\n",
       "    function displayChart(vegaEmbed) {\n",
       "      vegaEmbed(outputDiv, spec, embedOpt)\n",
       "        .catch(err => showError(`Javascript Error: ${err.message}<br>This usually means there's a typo in your chart specification. See the javascript console for the full traceback.`));\n",
       "    }\n",
       "\n",
       "    if(typeof define === \"function\" && define.amd) {\n",
       "      requirejs.config({paths});\n",
       "      require([\"vega-embed\"], displayChart, err => showError(`Error loading script: ${err.message}`));\n",
       "    } else if (typeof vegaEmbed === \"function\") {\n",
       "      displayChart(vegaEmbed);\n",
       "    } else {\n",
       "      loadScript(\"vega\")\n",
       "        .then(() => loadScript(\"vega-lite\"))\n",
       "        .then(() => loadScript(\"vega-embed\"))\n",
       "        .catch(showError)\n",
       "        .then(() => displayChart(vegaEmbed));\n",
       "    }\n",
       "  })({\"config\": {\"view\": {\"continuousWidth\": 400, \"continuousHeight\": 300, \"strokeWidth\": 0}, \"title\": {\"anchor\": \"start\", \"fontSize\": 18}}, \"layer\": [{\"mark\": {\"type\": \"bar\", \"color\": \"#FD8A8A\"}, \"encoding\": {\"tooltip\": {\"field\": \"pop\", \"type\": \"quantitative\"}, \"x\": {\"axis\": {\"labelAngle\": 0}, \"field\": \"year\", \"title\": \"\", \"type\": \"ordinal\"}, \"y\": {\"axis\": {\"domain\": false, \"format\": \".2s\", \"grid\": false, \"labels\": false, \"ticks\": false}, \"field\": \"pop\", \"title\": \"\", \"type\": \"quantitative\"}}, \"title\": \"Poblacion de Cuba de 1955 a 2005\", \"width\": 600}, {\"mark\": {\"type\": \"text\", \"dy\": -5}, \"encoding\": {\"text\": {\"field\": \"pop\", \"format\": \".2s\", \"type\": \"quantitative\"}, \"tooltip\": {\"field\": \"pop\", \"type\": \"quantitative\"}, \"x\": {\"axis\": {\"labelAngle\": 0}, \"field\": \"year\", \"title\": \"\", \"type\": \"ordinal\"}, \"y\": {\"axis\": {\"domain\": false, \"format\": \".2s\", \"grid\": false, \"labels\": false, \"ticks\": false}, \"field\": \"pop\", \"title\": \"\", \"type\": \"quantitative\"}}, \"title\": \"Poblacion de Cuba de 1955 a 2005\", \"width\": 600}], \"data\": {\"name\": \"data-7eae0e229dbcbec0824cda5b85200156\"}, \"title\": \"Poblacion de Cuba desde 1955 a 2005\", \"width\": 600, \"$schema\": \"https://vega.github.io/schema/vega-lite/v4.17.0.json\", \"datasets\": {\"data-7eae0e229dbcbec0824cda5b85200156\": [{\"year\": 1955, \"country\": \"Cuba\", \"cluster\": 3, \"pop\": 6381106, \"life_expect\": 62.325, \"fertility\": 3.6995}, {\"year\": 1960, \"country\": \"Cuba\", \"cluster\": 3, \"pop\": 7027210, \"life_expect\": 65.246, \"fertility\": 4.6805}, {\"year\": 1965, \"country\": \"Cuba\", \"cluster\": 3, \"pop\": 7809916, \"life_expect\": 68.29, \"fertility\": 4.3}, {\"year\": 1970, \"country\": \"Cuba\", \"cluster\": 3, \"pop\": 8542746, \"life_expect\": 70.723, \"fertility\": 3.6}, {\"year\": 1975, \"country\": \"Cuba\", \"cluster\": 3, \"pop\": 9290074, \"life_expect\": 72.649, \"fertility\": 2.15}, {\"year\": 1980, \"country\": \"Cuba\", \"cluster\": 3, \"pop\": 9652975, \"life_expect\": 73.717, \"fertility\": 1.8495}, {\"year\": 1985, \"country\": \"Cuba\", \"cluster\": 3, \"pop\": 10078658, \"life_expect\": 74.174, \"fertility\": 1.8495}, {\"year\": 1990, \"country\": \"Cuba\", \"cluster\": 3, \"pop\": 10544793, \"life_expect\": 74.414, \"fertility\": 1.6505}, {\"year\": 1995, \"country\": \"Cuba\", \"cluster\": 3, \"pop\": 10896802, \"life_expect\": 76.151, \"fertility\": 1.6095000000000002}, {\"year\": 2000, \"country\": \"Cuba\", \"cluster\": 3, \"pop\": 11134273, \"life_expect\": 77.158, \"fertility\": 1.63}, {\"year\": 2005, \"country\": \"Cuba\", \"cluster\": 3, \"pop\": 11346670, \"life_expect\": 78.273, \"fertility\": 1.49}]}}, {\"mode\": \"vega-lite\"});\n",
       "</script>"
      ],
      "text/plain": [
       "alt.LayerChart(...)"
      ]
     },
     "execution_count": 76,
     "metadata": {},
     "output_type": "execute_result"
    }
   ],
   "source": [
    "chart_final.properties(\n",
    "    title = f\"Poblacion de {pais} desde 1955 a 2005\",\n",
    "    width = 600,\n",
    ").configure_title(\n",
    "    fontSize = 18,\n",
    "    anchor = 'start'\n",
    ").configure_view(\n",
    "    strokeWidth = 0\n",
    ")\n"
   ]
  },
  {
   "cell_type": "code",
   "execution_count": null,
   "id": "cd0b81b0-5f5e-4bdf-9301-eeaa6b46bac1",
   "metadata": {},
   "outputs": [],
   "source": []
  },
  {
   "cell_type": "code",
   "execution_count": null,
   "id": "83b15795-e17d-4bd1-94f6-e50cb823a367",
   "metadata": {},
   "outputs": [],
   "source": []
  }
 ],
 "metadata": {
  "kernelspec": {
   "display_name": "Python 3 (ipykernel)",
   "language": "python",
   "name": "python3"
  },
  "language_info": {
   "codemirror_mode": {
    "name": "ipython",
    "version": 3
   },
   "file_extension": ".py",
   "mimetype": "text/x-python",
   "name": "python",
   "nbconvert_exporter": "python",
   "pygments_lexer": "ipython3",
   "version": "3.11.0"
  }
 },
 "nbformat": 4,
 "nbformat_minor": 5
}
