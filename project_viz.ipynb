{
 "cells": [
  {
   "cell_type": "code",
   "execution_count": 1,
   "id": "528c933f-764b-4940-ab4e-5bdeb9c02ec4",
   "metadata": {},
   "outputs": [
    {
     "data": {
      "text/html": [
       "<div>\n",
       "<style scoped>\n",
       "    .dataframe tbody tr th:only-of-type {\n",
       "        vertical-align: middle;\n",
       "    }\n",
       "\n",
       "    .dataframe tbody tr th {\n",
       "        vertical-align: top;\n",
       "    }\n",
       "\n",
       "    .dataframe thead th {\n",
       "        text-align: right;\n",
       "    }\n",
       "</style>\n",
       "<table border=\"1\" class=\"dataframe\">\n",
       "  <thead>\n",
       "    <tr style=\"text-align: right;\">\n",
       "      <th></th>\n",
       "      <th>year</th>\n",
       "      <th>country</th>\n",
       "      <th>cluster</th>\n",
       "      <th>pop</th>\n",
       "      <th>life_expect</th>\n",
       "      <th>fertility</th>\n",
       "    </tr>\n",
       "  </thead>\n",
       "  <tbody>\n",
       "    <tr>\n",
       "      <th>0</th>\n",
       "      <td>1955</td>\n",
       "      <td>Afghanistan</td>\n",
       "      <td>0</td>\n",
       "      <td>8891209</td>\n",
       "      <td>30.332</td>\n",
       "      <td>7.7000</td>\n",
       "    </tr>\n",
       "    <tr>\n",
       "      <th>1</th>\n",
       "      <td>1960</td>\n",
       "      <td>Afghanistan</td>\n",
       "      <td>0</td>\n",
       "      <td>9829450</td>\n",
       "      <td>31.997</td>\n",
       "      <td>7.7000</td>\n",
       "    </tr>\n",
       "    <tr>\n",
       "      <th>2</th>\n",
       "      <td>1965</td>\n",
       "      <td>Afghanistan</td>\n",
       "      <td>0</td>\n",
       "      <td>10997885</td>\n",
       "      <td>34.020</td>\n",
       "      <td>7.7000</td>\n",
       "    </tr>\n",
       "    <tr>\n",
       "      <th>3</th>\n",
       "      <td>1970</td>\n",
       "      <td>Afghanistan</td>\n",
       "      <td>0</td>\n",
       "      <td>12430623</td>\n",
       "      <td>36.088</td>\n",
       "      <td>7.7000</td>\n",
       "    </tr>\n",
       "    <tr>\n",
       "      <th>4</th>\n",
       "      <td>1975</td>\n",
       "      <td>Afghanistan</td>\n",
       "      <td>0</td>\n",
       "      <td>14132019</td>\n",
       "      <td>38.438</td>\n",
       "      <td>7.7000</td>\n",
       "    </tr>\n",
       "    <tr>\n",
       "      <th>...</th>\n",
       "      <td>...</td>\n",
       "      <td>...</td>\n",
       "      <td>...</td>\n",
       "      <td>...</td>\n",
       "      <td>...</td>\n",
       "      <td>...</td>\n",
       "    </tr>\n",
       "    <tr>\n",
       "      <th>688</th>\n",
       "      <td>1985</td>\n",
       "      <td>Venezuela</td>\n",
       "      <td>3</td>\n",
       "      <td>16997509</td>\n",
       "      <td>70.190</td>\n",
       "      <td>3.6485</td>\n",
       "    </tr>\n",
       "    <tr>\n",
       "      <th>689</th>\n",
       "      <td>1990</td>\n",
       "      <td>Venezuela</td>\n",
       "      <td>3</td>\n",
       "      <td>19325222</td>\n",
       "      <td>71.150</td>\n",
       "      <td>3.2500</td>\n",
       "    </tr>\n",
       "    <tr>\n",
       "      <th>690</th>\n",
       "      <td>1995</td>\n",
       "      <td>Venezuela</td>\n",
       "      <td>3</td>\n",
       "      <td>21555902</td>\n",
       "      <td>72.146</td>\n",
       "      <td>2.9415</td>\n",
       "    </tr>\n",
       "    <tr>\n",
       "      <th>691</th>\n",
       "      <td>2000</td>\n",
       "      <td>Venezuela</td>\n",
       "      <td>3</td>\n",
       "      <td>23542649</td>\n",
       "      <td>72.766</td>\n",
       "      <td>2.7230</td>\n",
       "    </tr>\n",
       "    <tr>\n",
       "      <th>692</th>\n",
       "      <td>2005</td>\n",
       "      <td>Venezuela</td>\n",
       "      <td>3</td>\n",
       "      <td>25375281</td>\n",
       "      <td>73.747</td>\n",
       "      <td>2.5470</td>\n",
       "    </tr>\n",
       "  </tbody>\n",
       "</table>\n",
       "<p>693 rows × 6 columns</p>\n",
       "</div>"
      ],
      "text/plain": [
       "     year      country  cluster       pop  life_expect  fertility\n",
       "0    1955  Afghanistan        0   8891209       30.332     7.7000\n",
       "1    1960  Afghanistan        0   9829450       31.997     7.7000\n",
       "2    1965  Afghanistan        0  10997885       34.020     7.7000\n",
       "3    1970  Afghanistan        0  12430623       36.088     7.7000\n",
       "4    1975  Afghanistan        0  14132019       38.438     7.7000\n",
       "..    ...          ...      ...       ...          ...        ...\n",
       "688  1985    Venezuela        3  16997509       70.190     3.6485\n",
       "689  1990    Venezuela        3  19325222       71.150     3.2500\n",
       "690  1995    Venezuela        3  21555902       72.146     2.9415\n",
       "691  2000    Venezuela        3  23542649       72.766     2.7230\n",
       "692  2005    Venezuela        3  25375281       73.747     2.5470\n",
       "\n",
       "[693 rows x 6 columns]"
      ]
     },
     "execution_count": 1,
     "metadata": {},
     "output_type": "execute_result"
    }
   ],
   "source": [
    "import pandas as pd\n",
    "import altair as alt\n",
    "from vega_datasets import data\n",
    "data= data.gapminder()\n",
    "data\n"
   ]
  },
  {
   "cell_type": "markdown",
   "id": "4e8879e5-6eca-42d9-bc94-f50af9f39631",
   "metadata": {
    "tags": []
   },
   "source": [
    "# BARCHART"
   ]
  },
  {
   "cell_type": "markdown",
   "id": "b68b40f1-1904-4eb0-a04e-56ff548ebc71",
   "metadata": {},
   "source": [
    "data.country.unique()"
   ]
  },
  {
   "cell_type": "code",
   "execution_count": 4,
   "id": "f68bdd4d-7cc8-49e1-846e-1dd4c38d8900",
   "metadata": {},
   "outputs": [],
   "source": [
    "pais = 'Australia'\n"
   ]
  },
  {
   "cell_type": "code",
   "execution_count": 5,
   "id": "7f5d71f4-20ec-4785-acff-f79f2d9a49e2",
   "metadata": {},
   "outputs": [],
   "source": [
    "pais_dos = 'Norway'"
   ]
  },
  {
   "cell_type": "code",
   "execution_count": 6,
   "id": "ea8d1a17-e514-48ef-80df-7159f67c5f67",
   "metadata": {},
   "outputs": [],
   "source": [
    "data_pais = data [data ['country']==pais]"
   ]
  },
  {
   "cell_type": "code",
   "execution_count": 7,
   "id": "dbe66097-3074-48bc-9d25-41afaebe2c9d",
   "metadata": {},
   "outputs": [],
   "source": [
    "data_pais_dos = data [data ['country']==pais_dos]"
   ]
  },
  {
   "cell_type": "code",
   "execution_count": 8,
   "id": "025be3db-0dab-4bb0-a999-22fca65e7b18",
   "metadata": {},
   "outputs": [
    {
     "name": "stderr",
     "output_type": "stream",
     "text": [
      "C:\\Users\\German Castro\\ciencia_datos\\viz\\envirtual\\Lib\\site-packages\\altair\\utils\\core.py:317: FutureWarning: iteritems is deprecated and will be removed in a future version. Use .items instead.\n",
      "  for col_name, dtype in df.dtypes.iteritems():\n"
     ]
    },
    {
     "data": {
      "text/html": [
       "\n",
       "<div id=\"altair-viz-89bf0cbacaa447c29cbee515e24aa1e6\"></div>\n",
       "<script type=\"text/javascript\">\n",
       "  (function(spec, embedOpt){\n",
       "    let outputDiv = document.currentScript.previousElementSibling;\n",
       "    if (outputDiv.id !== \"altair-viz-89bf0cbacaa447c29cbee515e24aa1e6\") {\n",
       "      outputDiv = document.getElementById(\"altair-viz-89bf0cbacaa447c29cbee515e24aa1e6\");\n",
       "    }\n",
       "    const paths = {\n",
       "      \"vega\": \"https://cdn.jsdelivr.net/npm//vega@5?noext\",\n",
       "      \"vega-lib\": \"https://cdn.jsdelivr.net/npm//vega-lib?noext\",\n",
       "      \"vega-lite\": \"https://cdn.jsdelivr.net/npm//vega-lite@4.17.0?noext\",\n",
       "      \"vega-embed\": \"https://cdn.jsdelivr.net/npm//vega-embed@6?noext\",\n",
       "    };\n",
       "\n",
       "    function loadScript(lib) {\n",
       "      return new Promise(function(resolve, reject) {\n",
       "        var s = document.createElement('script');\n",
       "        s.src = paths[lib];\n",
       "        s.async = true;\n",
       "        s.onload = () => resolve(paths[lib]);\n",
       "        s.onerror = () => reject(`Error loading script: ${paths[lib]}`);\n",
       "        document.getElementsByTagName(\"head\")[0].appendChild(s);\n",
       "      });\n",
       "    }\n",
       "\n",
       "    function showError(err) {\n",
       "      outputDiv.innerHTML = `<div class=\"error\" style=\"color:red;\">${err}</div>`;\n",
       "      throw err;\n",
       "    }\n",
       "\n",
       "    function displayChart(vegaEmbed) {\n",
       "      vegaEmbed(outputDiv, spec, embedOpt)\n",
       "        .catch(err => showError(`Javascript Error: ${err.message}<br>This usually means there's a typo in your chart specification. See the javascript console for the full traceback.`));\n",
       "    }\n",
       "\n",
       "    if(typeof define === \"function\" && define.amd) {\n",
       "      requirejs.config({paths});\n",
       "      require([\"vega-embed\"], displayChart, err => showError(`Error loading script: ${err.message}`));\n",
       "    } else if (typeof vegaEmbed === \"function\") {\n",
       "      displayChart(vegaEmbed);\n",
       "    } else {\n",
       "      loadScript(\"vega\")\n",
       "        .then(() => loadScript(\"vega-lite\"))\n",
       "        .then(() => loadScript(\"vega-embed\"))\n",
       "        .catch(showError)\n",
       "        .then(() => displayChart(vegaEmbed));\n",
       "    }\n",
       "  })({\"config\": {\"view\": {\"continuousWidth\": 400, \"continuousHeight\": 300}}, \"data\": {\"name\": \"data-5378fb20b64e89776241f1c6016803de\"}, \"mark\": \"bar\", \"encoding\": {\"x\": {\"field\": \"year\", \"type\": \"quantitative\"}, \"y\": {\"field\": \"pop\", \"type\": \"quantitative\"}}, \"$schema\": \"https://vega.github.io/schema/vega-lite/v4.17.0.json\", \"datasets\": {\"data-5378fb20b64e89776241f1c6016803de\": [{\"year\": 1955, \"country\": \"Australia\", \"cluster\": 4, \"pop\": 9277087, \"life_expect\": 70.33, \"fertility\": 3.406}, {\"year\": 1960, \"country\": \"Australia\", \"cluster\": 4, \"pop\": 10361273, \"life_expect\": 70.93, \"fertility\": 3.274}, {\"year\": 1965, \"country\": \"Australia\", \"cluster\": 4, \"pop\": 11439384, \"life_expect\": 71.1, \"fertility\": 2.871}, {\"year\": 1970, \"country\": \"Australia\", \"cluster\": 4, \"pop\": 12660160, \"life_expect\": 71.93, \"fertility\": 2.535}, {\"year\": 1975, \"country\": \"Australia\", \"cluster\": 4, \"pop\": 13771400, \"life_expect\": 73.49, \"fertility\": 1.9889999999999999}, {\"year\": 1980, \"country\": \"Australia\", \"cluster\": 4, \"pop\": 14615900, \"life_expect\": 74.74, \"fertility\": 1.907}, {\"year\": 1985, \"country\": \"Australia\", \"cluster\": 4, \"pop\": 15788300, \"life_expect\": 76.32, \"fertility\": 1.859}, {\"year\": 1990, \"country\": \"Australia\", \"cluster\": 4, \"pop\": 17022133, \"life_expect\": 77.56, \"fertility\": 1.8599999999999999}, {\"year\": 1995, \"country\": \"Australia\", \"cluster\": 4, \"pop\": 18116171, \"life_expect\": 78.83, \"fertility\": 1.776}, {\"year\": 2000, \"country\": \"Australia\", \"cluster\": 4, \"pop\": 19164620, \"life_expect\": 80.37, \"fertility\": 1.756}, {\"year\": 2005, \"country\": \"Australia\", \"cluster\": 4, \"pop\": 20090437, \"life_expect\": 81.235, \"fertility\": 1.788}]}}, {\"mode\": \"vega-lite\"});\n",
       "</script>"
      ],
      "text/plain": [
       "alt.Chart(...)"
      ]
     },
     "execution_count": 8,
     "metadata": {},
     "output_type": "execute_result"
    }
   ],
   "source": [
    "alt.Chart(data_pais).mark_bar().encode(\n",
    "    x= 'year:Q',\n",
    "    y= 'pop',\n",
    ")"
   ]
  },
  {
   "cell_type": "markdown",
   "id": "1a54b40f-d47a-460d-9e4b-b78321582df9",
   "metadata": {},
   "source": [
    "# BARCHART+"
   ]
  },
  {
   "cell_type": "code",
   "execution_count": 10,
   "id": "f3f37aba-b903-4886-be04-df84759ed067",
   "metadata": {},
   "outputs": [],
   "source": [
    "barras = alt.Chart(data_pais).mark_bar(color = '#FD8A8A').encode(\n",
    "    x= alt.X('year:O',title='',axis= alt.Axis(labelAngle=0)),\n",
    "    y= alt.Y('pop:Q',title='',axis=alt.Axis(format = '.2s',labels = False, domain = False, ticks = False, grid = False) ),\n",
    "    tooltip=alt.Tooltip('pop')\n",
    ").properties(\n",
    "    title = f\"Poblacion de {pais} de 1955 a 2005\",\n",
    "    width = 600,\n",
    ")"
   ]
  },
  {
   "cell_type": "code",
   "execution_count": 11,
   "id": "f06fbd66-be88-4a44-8e35-f4933ae2bf41",
   "metadata": {},
   "outputs": [],
   "source": [
    "barras_dos = alt.Chart(data_pais_dos).mark_bar(color = '#FD8A8A').encode(\n",
    "    x= alt.X('year:O',title='',axis= alt.Axis(labelAngle=0)),\n",
    "    y= alt.Y('pop:Q',title='',axis=alt.Axis(format = '.2s',labels = False, domain = False, ticks = False, grid = False) ),\n",
    "    tooltip=alt.Tooltip('pop')\n",
    ").properties(\n",
    "    title = f\"Poblacion de {pais_dos} de 1955 a 2005\",\n",
    "    width = 600,\n",
    ")"
   ]
  },
  {
   "cell_type": "code",
   "execution_count": 12,
   "id": "dd952b5a-c7d2-4b02-afac-e51eb66e23c1",
   "metadata": {},
   "outputs": [
    {
     "data": {
      "text/html": [
       "\n",
       "<div id=\"altair-viz-4affbfe02acc4dd981a8640be8167ead\"></div>\n",
       "<script type=\"text/javascript\">\n",
       "  (function(spec, embedOpt){\n",
       "    let outputDiv = document.currentScript.previousElementSibling;\n",
       "    if (outputDiv.id !== \"altair-viz-4affbfe02acc4dd981a8640be8167ead\") {\n",
       "      outputDiv = document.getElementById(\"altair-viz-4affbfe02acc4dd981a8640be8167ead\");\n",
       "    }\n",
       "    const paths = {\n",
       "      \"vega\": \"https://cdn.jsdelivr.net/npm//vega@5?noext\",\n",
       "      \"vega-lib\": \"https://cdn.jsdelivr.net/npm//vega-lib?noext\",\n",
       "      \"vega-lite\": \"https://cdn.jsdelivr.net/npm//vega-lite@4.17.0?noext\",\n",
       "      \"vega-embed\": \"https://cdn.jsdelivr.net/npm//vega-embed@6?noext\",\n",
       "    };\n",
       "\n",
       "    function loadScript(lib) {\n",
       "      return new Promise(function(resolve, reject) {\n",
       "        var s = document.createElement('script');\n",
       "        s.src = paths[lib];\n",
       "        s.async = true;\n",
       "        s.onload = () => resolve(paths[lib]);\n",
       "        s.onerror = () => reject(`Error loading script: ${paths[lib]}`);\n",
       "        document.getElementsByTagName(\"head\")[0].appendChild(s);\n",
       "      });\n",
       "    }\n",
       "\n",
       "    function showError(err) {\n",
       "      outputDiv.innerHTML = `<div class=\"error\" style=\"color:red;\">${err}</div>`;\n",
       "      throw err;\n",
       "    }\n",
       "\n",
       "    function displayChart(vegaEmbed) {\n",
       "      vegaEmbed(outputDiv, spec, embedOpt)\n",
       "        .catch(err => showError(`Javascript Error: ${err.message}<br>This usually means there's a typo in your chart specification. See the javascript console for the full traceback.`));\n",
       "    }\n",
       "\n",
       "    if(typeof define === \"function\" && define.amd) {\n",
       "      requirejs.config({paths});\n",
       "      require([\"vega-embed\"], displayChart, err => showError(`Error loading script: ${err.message}`));\n",
       "    } else if (typeof vegaEmbed === \"function\") {\n",
       "      displayChart(vegaEmbed);\n",
       "    } else {\n",
       "      loadScript(\"vega\")\n",
       "        .then(() => loadScript(\"vega-lite\"))\n",
       "        .then(() => loadScript(\"vega-embed\"))\n",
       "        .catch(showError)\n",
       "        .then(() => displayChart(vegaEmbed));\n",
       "    }\n",
       "  })({\"config\": {\"view\": {\"continuousWidth\": 400, \"continuousHeight\": 300}}, \"data\": {\"name\": \"data-5378fb20b64e89776241f1c6016803de\"}, \"mark\": {\"type\": \"bar\", \"color\": \"#FD8A8A\"}, \"encoding\": {\"tooltip\": {\"field\": \"pop\", \"type\": \"quantitative\"}, \"x\": {\"axis\": {\"labelAngle\": 0}, \"field\": \"year\", \"title\": \"\", \"type\": \"ordinal\"}, \"y\": {\"axis\": {\"domain\": false, \"format\": \".2s\", \"grid\": false, \"labels\": false, \"ticks\": false}, \"field\": \"pop\", \"title\": \"\", \"type\": \"quantitative\"}}, \"title\": \"Poblacion de Australia de 1955 a 2005\", \"width\": 600, \"$schema\": \"https://vega.github.io/schema/vega-lite/v4.17.0.json\", \"datasets\": {\"data-5378fb20b64e89776241f1c6016803de\": [{\"year\": 1955, \"country\": \"Australia\", \"cluster\": 4, \"pop\": 9277087, \"life_expect\": 70.33, \"fertility\": 3.406}, {\"year\": 1960, \"country\": \"Australia\", \"cluster\": 4, \"pop\": 10361273, \"life_expect\": 70.93, \"fertility\": 3.274}, {\"year\": 1965, \"country\": \"Australia\", \"cluster\": 4, \"pop\": 11439384, \"life_expect\": 71.1, \"fertility\": 2.871}, {\"year\": 1970, \"country\": \"Australia\", \"cluster\": 4, \"pop\": 12660160, \"life_expect\": 71.93, \"fertility\": 2.535}, {\"year\": 1975, \"country\": \"Australia\", \"cluster\": 4, \"pop\": 13771400, \"life_expect\": 73.49, \"fertility\": 1.9889999999999999}, {\"year\": 1980, \"country\": \"Australia\", \"cluster\": 4, \"pop\": 14615900, \"life_expect\": 74.74, \"fertility\": 1.907}, {\"year\": 1985, \"country\": \"Australia\", \"cluster\": 4, \"pop\": 15788300, \"life_expect\": 76.32, \"fertility\": 1.859}, {\"year\": 1990, \"country\": \"Australia\", \"cluster\": 4, \"pop\": 17022133, \"life_expect\": 77.56, \"fertility\": 1.8599999999999999}, {\"year\": 1995, \"country\": \"Australia\", \"cluster\": 4, \"pop\": 18116171, \"life_expect\": 78.83, \"fertility\": 1.776}, {\"year\": 2000, \"country\": \"Australia\", \"cluster\": 4, \"pop\": 19164620, \"life_expect\": 80.37, \"fertility\": 1.756}, {\"year\": 2005, \"country\": \"Australia\", \"cluster\": 4, \"pop\": 20090437, \"life_expect\": 81.235, \"fertility\": 1.788}]}}, {\"mode\": \"vega-lite\"});\n",
       "</script>"
      ],
      "text/plain": [
       "alt.Chart(...)"
      ]
     },
     "execution_count": 12,
     "metadata": {},
     "output_type": "execute_result"
    }
   ],
   "source": [
    "barras"
   ]
  },
  {
   "cell_type": "code",
   "execution_count": 13,
   "id": "063b26b5-b460-4d72-95c1-0aeec229bcd1",
   "metadata": {},
   "outputs": [
    {
     "data": {
      "text/html": [
       "\n",
       "<div id=\"altair-viz-07e4c103715147249863bb8f028d4279\"></div>\n",
       "<script type=\"text/javascript\">\n",
       "  (function(spec, embedOpt){\n",
       "    let outputDiv = document.currentScript.previousElementSibling;\n",
       "    if (outputDiv.id !== \"altair-viz-07e4c103715147249863bb8f028d4279\") {\n",
       "      outputDiv = document.getElementById(\"altair-viz-07e4c103715147249863bb8f028d4279\");\n",
       "    }\n",
       "    const paths = {\n",
       "      \"vega\": \"https://cdn.jsdelivr.net/npm//vega@5?noext\",\n",
       "      \"vega-lib\": \"https://cdn.jsdelivr.net/npm//vega-lib?noext\",\n",
       "      \"vega-lite\": \"https://cdn.jsdelivr.net/npm//vega-lite@4.17.0?noext\",\n",
       "      \"vega-embed\": \"https://cdn.jsdelivr.net/npm//vega-embed@6?noext\",\n",
       "    };\n",
       "\n",
       "    function loadScript(lib) {\n",
       "      return new Promise(function(resolve, reject) {\n",
       "        var s = document.createElement('script');\n",
       "        s.src = paths[lib];\n",
       "        s.async = true;\n",
       "        s.onload = () => resolve(paths[lib]);\n",
       "        s.onerror = () => reject(`Error loading script: ${paths[lib]}`);\n",
       "        document.getElementsByTagName(\"head\")[0].appendChild(s);\n",
       "      });\n",
       "    }\n",
       "\n",
       "    function showError(err) {\n",
       "      outputDiv.innerHTML = `<div class=\"error\" style=\"color:red;\">${err}</div>`;\n",
       "      throw err;\n",
       "    }\n",
       "\n",
       "    function displayChart(vegaEmbed) {\n",
       "      vegaEmbed(outputDiv, spec, embedOpt)\n",
       "        .catch(err => showError(`Javascript Error: ${err.message}<br>This usually means there's a typo in your chart specification. See the javascript console for the full traceback.`));\n",
       "    }\n",
       "\n",
       "    if(typeof define === \"function\" && define.amd) {\n",
       "      requirejs.config({paths});\n",
       "      require([\"vega-embed\"], displayChart, err => showError(`Error loading script: ${err.message}`));\n",
       "    } else if (typeof vegaEmbed === \"function\") {\n",
       "      displayChart(vegaEmbed);\n",
       "    } else {\n",
       "      loadScript(\"vega\")\n",
       "        .then(() => loadScript(\"vega-lite\"))\n",
       "        .then(() => loadScript(\"vega-embed\"))\n",
       "        .catch(showError)\n",
       "        .then(() => displayChart(vegaEmbed));\n",
       "    }\n",
       "  })({\"config\": {\"view\": {\"continuousWidth\": 400, \"continuousHeight\": 300}}, \"data\": {\"name\": \"data-349a86be8b76b1da5c8edf9eecd902a7\"}, \"mark\": {\"type\": \"bar\", \"color\": \"#FD8A8A\"}, \"encoding\": {\"tooltip\": {\"field\": \"pop\", \"type\": \"quantitative\"}, \"x\": {\"axis\": {\"labelAngle\": 0}, \"field\": \"year\", \"title\": \"\", \"type\": \"ordinal\"}, \"y\": {\"axis\": {\"domain\": false, \"format\": \".2s\", \"grid\": false, \"labels\": false, \"ticks\": false}, \"field\": \"pop\", \"title\": \"\", \"type\": \"quantitative\"}}, \"title\": \"Poblacion de Norway de 1955 a 2005\", \"width\": 600, \"$schema\": \"https://vega.github.io/schema/vega-lite/v4.17.0.json\", \"datasets\": {\"data-349a86be8b76b1da5c8edf9eecd902a7\": [{\"year\": 1955, \"country\": \"Norway\", \"cluster\": 1, \"pop\": 3427409, \"life_expect\": 73.44, \"fertility\": 2.8369999999999997}, {\"year\": 1960, \"country\": \"Norway\", \"cluster\": 1, \"pop\": 3581239, \"life_expect\": 73.47, \"fertility\": 2.898}, {\"year\": 1965, \"country\": \"Norway\", \"cluster\": 1, \"pop\": 3723153, \"life_expect\": 74.08, \"fertility\": 2.719}, {\"year\": 1970, \"country\": \"Norway\", \"cluster\": 1, \"pop\": 3877386, \"life_expect\": 74.34, \"fertility\": 2.248}, {\"year\": 1975, \"country\": \"Norway\", \"cluster\": 1, \"pop\": 4007313, \"life_expect\": 75.37, \"fertility\": 1.81}, {\"year\": 1980, \"country\": \"Norway\", \"cluster\": 1, \"pop\": 4085620, \"life_expect\": 75.97, \"fertility\": 1.687}, {\"year\": 1985, \"country\": \"Norway\", \"cluster\": 1, \"pop\": 4152419, \"life_expect\": 75.89, \"fertility\": 1.8}, {\"year\": 1990, \"country\": \"Norway\", \"cluster\": 1, \"pop\": 4242006, \"life_expect\": 77.32, \"fertility\": 1.8860000000000001}, {\"year\": 1995, \"country\": \"Norway\", \"cluster\": 1, \"pop\": 4359101, \"life_expect\": 78.32, \"fertility\": 1.853}, {\"year\": 2000, \"country\": \"Norway\", \"cluster\": 1, \"pop\": 4492400, \"life_expect\": 79.05, \"fertility\": 1.8010000000000002}, {\"year\": 2005, \"country\": \"Norway\", \"cluster\": 1, \"pop\": 4593041, \"life_expect\": 80.196, \"fertility\": 1.8479999999999999}]}}, {\"mode\": \"vega-lite\"});\n",
       "</script>"
      ],
      "text/plain": [
       "alt.Chart(...)"
      ]
     },
     "execution_count": 13,
     "metadata": {},
     "output_type": "execute_result"
    }
   ],
   "source": [
    "barras_dos"
   ]
  },
  {
   "cell_type": "markdown",
   "id": "ce86babb-2dd4-4f1b-992e-e86bbca136bf",
   "metadata": {},
   "source": [
    "# visualizaiones complejas compuestas y mas interactivas"
   ]
  },
  {
   "cell_type": "code",
   "execution_count": 15,
   "id": "9c50d77a-a43a-4e14-8ccc-dede1b965113",
   "metadata": {},
   "outputs": [],
   "source": [
    "etiquetas = barras.mark_text().encode(\n",
    "    text = 'pop:Q',\n",
    ")\n"
   ]
  },
  {
   "cell_type": "code",
   "execution_count": 16,
   "id": "262ffe1f-9279-44e0-a2eb-e593a5d9c9c2",
   "metadata": {},
   "outputs": [],
   "source": [
    "etiquetas_dos = barras_dos.mark_text().encode(\n",
    "    text = 'pop:Q',\n",
    ")\n"
   ]
  },
  {
   "cell_type": "code",
   "execution_count": 17,
   "id": "76fc5a89-747c-4eae-a1fa-076bf02093b8",
   "metadata": {},
   "outputs": [
    {
     "data": {
      "text/html": [
       "\n",
       "<div id=\"altair-viz-a5ce0e1e792f4521af308d25c5f6ac3b\"></div>\n",
       "<script type=\"text/javascript\">\n",
       "  (function(spec, embedOpt){\n",
       "    let outputDiv = document.currentScript.previousElementSibling;\n",
       "    if (outputDiv.id !== \"altair-viz-a5ce0e1e792f4521af308d25c5f6ac3b\") {\n",
       "      outputDiv = document.getElementById(\"altair-viz-a5ce0e1e792f4521af308d25c5f6ac3b\");\n",
       "    }\n",
       "    const paths = {\n",
       "      \"vega\": \"https://cdn.jsdelivr.net/npm//vega@5?noext\",\n",
       "      \"vega-lib\": \"https://cdn.jsdelivr.net/npm//vega-lib?noext\",\n",
       "      \"vega-lite\": \"https://cdn.jsdelivr.net/npm//vega-lite@4.17.0?noext\",\n",
       "      \"vega-embed\": \"https://cdn.jsdelivr.net/npm//vega-embed@6?noext\",\n",
       "    };\n",
       "\n",
       "    function loadScript(lib) {\n",
       "      return new Promise(function(resolve, reject) {\n",
       "        var s = document.createElement('script');\n",
       "        s.src = paths[lib];\n",
       "        s.async = true;\n",
       "        s.onload = () => resolve(paths[lib]);\n",
       "        s.onerror = () => reject(`Error loading script: ${paths[lib]}`);\n",
       "        document.getElementsByTagName(\"head\")[0].appendChild(s);\n",
       "      });\n",
       "    }\n",
       "\n",
       "    function showError(err) {\n",
       "      outputDiv.innerHTML = `<div class=\"error\" style=\"color:red;\">${err}</div>`;\n",
       "      throw err;\n",
       "    }\n",
       "\n",
       "    function displayChart(vegaEmbed) {\n",
       "      vegaEmbed(outputDiv, spec, embedOpt)\n",
       "        .catch(err => showError(`Javascript Error: ${err.message}<br>This usually means there's a typo in your chart specification. See the javascript console for the full traceback.`));\n",
       "    }\n",
       "\n",
       "    if(typeof define === \"function\" && define.amd) {\n",
       "      requirejs.config({paths});\n",
       "      require([\"vega-embed\"], displayChart, err => showError(`Error loading script: ${err.message}`));\n",
       "    } else if (typeof vegaEmbed === \"function\") {\n",
       "      displayChart(vegaEmbed);\n",
       "    } else {\n",
       "      loadScript(\"vega\")\n",
       "        .then(() => loadScript(\"vega-lite\"))\n",
       "        .then(() => loadScript(\"vega-embed\"))\n",
       "        .catch(showError)\n",
       "        .then(() => displayChart(vegaEmbed));\n",
       "    }\n",
       "  })({\"config\": {\"view\": {\"continuousWidth\": 400, \"continuousHeight\": 300}}, \"data\": {\"name\": \"data-5378fb20b64e89776241f1c6016803de\"}, \"mark\": \"text\", \"encoding\": {\"text\": {\"field\": \"pop\", \"type\": \"quantitative\"}, \"tooltip\": {\"field\": \"pop\", \"type\": \"quantitative\"}, \"x\": {\"axis\": {\"labelAngle\": 0}, \"field\": \"year\", \"title\": \"\", \"type\": \"ordinal\"}, \"y\": {\"axis\": {\"domain\": false, \"format\": \".2s\", \"grid\": false, \"labels\": false, \"ticks\": false}, \"field\": \"pop\", \"title\": \"\", \"type\": \"quantitative\"}}, \"title\": \"Poblacion de Australia de 1955 a 2005\", \"width\": 600, \"$schema\": \"https://vega.github.io/schema/vega-lite/v4.17.0.json\", \"datasets\": {\"data-5378fb20b64e89776241f1c6016803de\": [{\"year\": 1955, \"country\": \"Australia\", \"cluster\": 4, \"pop\": 9277087, \"life_expect\": 70.33, \"fertility\": 3.406}, {\"year\": 1960, \"country\": \"Australia\", \"cluster\": 4, \"pop\": 10361273, \"life_expect\": 70.93, \"fertility\": 3.274}, {\"year\": 1965, \"country\": \"Australia\", \"cluster\": 4, \"pop\": 11439384, \"life_expect\": 71.1, \"fertility\": 2.871}, {\"year\": 1970, \"country\": \"Australia\", \"cluster\": 4, \"pop\": 12660160, \"life_expect\": 71.93, \"fertility\": 2.535}, {\"year\": 1975, \"country\": \"Australia\", \"cluster\": 4, \"pop\": 13771400, \"life_expect\": 73.49, \"fertility\": 1.9889999999999999}, {\"year\": 1980, \"country\": \"Australia\", \"cluster\": 4, \"pop\": 14615900, \"life_expect\": 74.74, \"fertility\": 1.907}, {\"year\": 1985, \"country\": \"Australia\", \"cluster\": 4, \"pop\": 15788300, \"life_expect\": 76.32, \"fertility\": 1.859}, {\"year\": 1990, \"country\": \"Australia\", \"cluster\": 4, \"pop\": 17022133, \"life_expect\": 77.56, \"fertility\": 1.8599999999999999}, {\"year\": 1995, \"country\": \"Australia\", \"cluster\": 4, \"pop\": 18116171, \"life_expect\": 78.83, \"fertility\": 1.776}, {\"year\": 2000, \"country\": \"Australia\", \"cluster\": 4, \"pop\": 19164620, \"life_expect\": 80.37, \"fertility\": 1.756}, {\"year\": 2005, \"country\": \"Australia\", \"cluster\": 4, \"pop\": 20090437, \"life_expect\": 81.235, \"fertility\": 1.788}]}}, {\"mode\": \"vega-lite\"});\n",
       "</script>"
      ],
      "text/plain": [
       "alt.Chart(...)"
      ]
     },
     "execution_count": 17,
     "metadata": {},
     "output_type": "execute_result"
    }
   ],
   "source": [
    "etiquetas"
   ]
  },
  {
   "cell_type": "code",
   "execution_count": 18,
   "id": "527e6603-5d13-4893-bc8c-f55bae79a3e0",
   "metadata": {},
   "outputs": [
    {
     "data": {
      "text/html": [
       "\n",
       "<div id=\"altair-viz-a652309887fb428caf616bb3bcf7a715\"></div>\n",
       "<script type=\"text/javascript\">\n",
       "  (function(spec, embedOpt){\n",
       "    let outputDiv = document.currentScript.previousElementSibling;\n",
       "    if (outputDiv.id !== \"altair-viz-a652309887fb428caf616bb3bcf7a715\") {\n",
       "      outputDiv = document.getElementById(\"altair-viz-a652309887fb428caf616bb3bcf7a715\");\n",
       "    }\n",
       "    const paths = {\n",
       "      \"vega\": \"https://cdn.jsdelivr.net/npm//vega@5?noext\",\n",
       "      \"vega-lib\": \"https://cdn.jsdelivr.net/npm//vega-lib?noext\",\n",
       "      \"vega-lite\": \"https://cdn.jsdelivr.net/npm//vega-lite@4.17.0?noext\",\n",
       "      \"vega-embed\": \"https://cdn.jsdelivr.net/npm//vega-embed@6?noext\",\n",
       "    };\n",
       "\n",
       "    function loadScript(lib) {\n",
       "      return new Promise(function(resolve, reject) {\n",
       "        var s = document.createElement('script');\n",
       "        s.src = paths[lib];\n",
       "        s.async = true;\n",
       "        s.onload = () => resolve(paths[lib]);\n",
       "        s.onerror = () => reject(`Error loading script: ${paths[lib]}`);\n",
       "        document.getElementsByTagName(\"head\")[0].appendChild(s);\n",
       "      });\n",
       "    }\n",
       "\n",
       "    function showError(err) {\n",
       "      outputDiv.innerHTML = `<div class=\"error\" style=\"color:red;\">${err}</div>`;\n",
       "      throw err;\n",
       "    }\n",
       "\n",
       "    function displayChart(vegaEmbed) {\n",
       "      vegaEmbed(outputDiv, spec, embedOpt)\n",
       "        .catch(err => showError(`Javascript Error: ${err.message}<br>This usually means there's a typo in your chart specification. See the javascript console for the full traceback.`));\n",
       "    }\n",
       "\n",
       "    if(typeof define === \"function\" && define.amd) {\n",
       "      requirejs.config({paths});\n",
       "      require([\"vega-embed\"], displayChart, err => showError(`Error loading script: ${err.message}`));\n",
       "    } else if (typeof vegaEmbed === \"function\") {\n",
       "      displayChart(vegaEmbed);\n",
       "    } else {\n",
       "      loadScript(\"vega\")\n",
       "        .then(() => loadScript(\"vega-lite\"))\n",
       "        .then(() => loadScript(\"vega-embed\"))\n",
       "        .catch(showError)\n",
       "        .then(() => displayChart(vegaEmbed));\n",
       "    }\n",
       "  })({\"config\": {\"view\": {\"continuousWidth\": 400, \"continuousHeight\": 300}}, \"data\": {\"name\": \"data-349a86be8b76b1da5c8edf9eecd902a7\"}, \"mark\": \"text\", \"encoding\": {\"text\": {\"field\": \"pop\", \"type\": \"quantitative\"}, \"tooltip\": {\"field\": \"pop\", \"type\": \"quantitative\"}, \"x\": {\"axis\": {\"labelAngle\": 0}, \"field\": \"year\", \"title\": \"\", \"type\": \"ordinal\"}, \"y\": {\"axis\": {\"domain\": false, \"format\": \".2s\", \"grid\": false, \"labels\": false, \"ticks\": false}, \"field\": \"pop\", \"title\": \"\", \"type\": \"quantitative\"}}, \"title\": \"Poblacion de Norway de 1955 a 2005\", \"width\": 600, \"$schema\": \"https://vega.github.io/schema/vega-lite/v4.17.0.json\", \"datasets\": {\"data-349a86be8b76b1da5c8edf9eecd902a7\": [{\"year\": 1955, \"country\": \"Norway\", \"cluster\": 1, \"pop\": 3427409, \"life_expect\": 73.44, \"fertility\": 2.8369999999999997}, {\"year\": 1960, \"country\": \"Norway\", \"cluster\": 1, \"pop\": 3581239, \"life_expect\": 73.47, \"fertility\": 2.898}, {\"year\": 1965, \"country\": \"Norway\", \"cluster\": 1, \"pop\": 3723153, \"life_expect\": 74.08, \"fertility\": 2.719}, {\"year\": 1970, \"country\": \"Norway\", \"cluster\": 1, \"pop\": 3877386, \"life_expect\": 74.34, \"fertility\": 2.248}, {\"year\": 1975, \"country\": \"Norway\", \"cluster\": 1, \"pop\": 4007313, \"life_expect\": 75.37, \"fertility\": 1.81}, {\"year\": 1980, \"country\": \"Norway\", \"cluster\": 1, \"pop\": 4085620, \"life_expect\": 75.97, \"fertility\": 1.687}, {\"year\": 1985, \"country\": \"Norway\", \"cluster\": 1, \"pop\": 4152419, \"life_expect\": 75.89, \"fertility\": 1.8}, {\"year\": 1990, \"country\": \"Norway\", \"cluster\": 1, \"pop\": 4242006, \"life_expect\": 77.32, \"fertility\": 1.8860000000000001}, {\"year\": 1995, \"country\": \"Norway\", \"cluster\": 1, \"pop\": 4359101, \"life_expect\": 78.32, \"fertility\": 1.853}, {\"year\": 2000, \"country\": \"Norway\", \"cluster\": 1, \"pop\": 4492400, \"life_expect\": 79.05, \"fertility\": 1.8010000000000002}, {\"year\": 2005, \"country\": \"Norway\", \"cluster\": 1, \"pop\": 4593041, \"life_expect\": 80.196, \"fertility\": 1.8479999999999999}]}}, {\"mode\": \"vega-lite\"});\n",
       "</script>"
      ],
      "text/plain": [
       "alt.Chart(...)"
      ]
     },
     "execution_count": 18,
     "metadata": {},
     "output_type": "execute_result"
    }
   ],
   "source": [
    "etiquetas_dos"
   ]
  },
  {
   "cell_type": "code",
   "execution_count": 19,
   "id": "7c5299b5-ffa4-40ef-bc00-6ac1f49a6d57",
   "metadata": {},
   "outputs": [],
   "source": [
    "etiquetas = barras.mark_text(dy = -5).encode(\n",
    "    text = alt.Text('pop:Q', format ='.2s'),\n",
    ")"
   ]
  },
  {
   "cell_type": "code",
   "execution_count": 20,
   "id": "15ac5742-d569-4857-9f15-726c4af4f5d2",
   "metadata": {},
   "outputs": [],
   "source": [
    "etiquetas_dos = barras_dos.mark_text(dy = -5).encode(\n",
    "    text = alt.Text('pop:Q', format ='.2s'),\n",
    ")"
   ]
  },
  {
   "cell_type": "code",
   "execution_count": 21,
   "id": "7b429713-91ae-4982-980f-260a0fc5d1ad",
   "metadata": {},
   "outputs": [
    {
     "data": {
      "text/html": [
       "\n",
       "<div id=\"altair-viz-5e94beca8329441d98ef683487199a92\"></div>\n",
       "<script type=\"text/javascript\">\n",
       "  (function(spec, embedOpt){\n",
       "    let outputDiv = document.currentScript.previousElementSibling;\n",
       "    if (outputDiv.id !== \"altair-viz-5e94beca8329441d98ef683487199a92\") {\n",
       "      outputDiv = document.getElementById(\"altair-viz-5e94beca8329441d98ef683487199a92\");\n",
       "    }\n",
       "    const paths = {\n",
       "      \"vega\": \"https://cdn.jsdelivr.net/npm//vega@5?noext\",\n",
       "      \"vega-lib\": \"https://cdn.jsdelivr.net/npm//vega-lib?noext\",\n",
       "      \"vega-lite\": \"https://cdn.jsdelivr.net/npm//vega-lite@4.17.0?noext\",\n",
       "      \"vega-embed\": \"https://cdn.jsdelivr.net/npm//vega-embed@6?noext\",\n",
       "    };\n",
       "\n",
       "    function loadScript(lib) {\n",
       "      return new Promise(function(resolve, reject) {\n",
       "        var s = document.createElement('script');\n",
       "        s.src = paths[lib];\n",
       "        s.async = true;\n",
       "        s.onload = () => resolve(paths[lib]);\n",
       "        s.onerror = () => reject(`Error loading script: ${paths[lib]}`);\n",
       "        document.getElementsByTagName(\"head\")[0].appendChild(s);\n",
       "      });\n",
       "    }\n",
       "\n",
       "    function showError(err) {\n",
       "      outputDiv.innerHTML = `<div class=\"error\" style=\"color:red;\">${err}</div>`;\n",
       "      throw err;\n",
       "    }\n",
       "\n",
       "    function displayChart(vegaEmbed) {\n",
       "      vegaEmbed(outputDiv, spec, embedOpt)\n",
       "        .catch(err => showError(`Javascript Error: ${err.message}<br>This usually means there's a typo in your chart specification. See the javascript console for the full traceback.`));\n",
       "    }\n",
       "\n",
       "    if(typeof define === \"function\" && define.amd) {\n",
       "      requirejs.config({paths});\n",
       "      require([\"vega-embed\"], displayChart, err => showError(`Error loading script: ${err.message}`));\n",
       "    } else if (typeof vegaEmbed === \"function\") {\n",
       "      displayChart(vegaEmbed);\n",
       "    } else {\n",
       "      loadScript(\"vega\")\n",
       "        .then(() => loadScript(\"vega-lite\"))\n",
       "        .then(() => loadScript(\"vega-embed\"))\n",
       "        .catch(showError)\n",
       "        .then(() => displayChart(vegaEmbed));\n",
       "    }\n",
       "  })({\"config\": {\"view\": {\"continuousWidth\": 400, \"continuousHeight\": 300}}, \"data\": {\"name\": \"data-5378fb20b64e89776241f1c6016803de\"}, \"mark\": {\"type\": \"text\", \"dy\": -5}, \"encoding\": {\"text\": {\"field\": \"pop\", \"format\": \".2s\", \"type\": \"quantitative\"}, \"tooltip\": {\"field\": \"pop\", \"type\": \"quantitative\"}, \"x\": {\"axis\": {\"labelAngle\": 0}, \"field\": \"year\", \"title\": \"\", \"type\": \"ordinal\"}, \"y\": {\"axis\": {\"domain\": false, \"format\": \".2s\", \"grid\": false, \"labels\": false, \"ticks\": false}, \"field\": \"pop\", \"title\": \"\", \"type\": \"quantitative\"}}, \"title\": \"Poblacion de Australia de 1955 a 2005\", \"width\": 600, \"$schema\": \"https://vega.github.io/schema/vega-lite/v4.17.0.json\", \"datasets\": {\"data-5378fb20b64e89776241f1c6016803de\": [{\"year\": 1955, \"country\": \"Australia\", \"cluster\": 4, \"pop\": 9277087, \"life_expect\": 70.33, \"fertility\": 3.406}, {\"year\": 1960, \"country\": \"Australia\", \"cluster\": 4, \"pop\": 10361273, \"life_expect\": 70.93, \"fertility\": 3.274}, {\"year\": 1965, \"country\": \"Australia\", \"cluster\": 4, \"pop\": 11439384, \"life_expect\": 71.1, \"fertility\": 2.871}, {\"year\": 1970, \"country\": \"Australia\", \"cluster\": 4, \"pop\": 12660160, \"life_expect\": 71.93, \"fertility\": 2.535}, {\"year\": 1975, \"country\": \"Australia\", \"cluster\": 4, \"pop\": 13771400, \"life_expect\": 73.49, \"fertility\": 1.9889999999999999}, {\"year\": 1980, \"country\": \"Australia\", \"cluster\": 4, \"pop\": 14615900, \"life_expect\": 74.74, \"fertility\": 1.907}, {\"year\": 1985, \"country\": \"Australia\", \"cluster\": 4, \"pop\": 15788300, \"life_expect\": 76.32, \"fertility\": 1.859}, {\"year\": 1990, \"country\": \"Australia\", \"cluster\": 4, \"pop\": 17022133, \"life_expect\": 77.56, \"fertility\": 1.8599999999999999}, {\"year\": 1995, \"country\": \"Australia\", \"cluster\": 4, \"pop\": 18116171, \"life_expect\": 78.83, \"fertility\": 1.776}, {\"year\": 2000, \"country\": \"Australia\", \"cluster\": 4, \"pop\": 19164620, \"life_expect\": 80.37, \"fertility\": 1.756}, {\"year\": 2005, \"country\": \"Australia\", \"cluster\": 4, \"pop\": 20090437, \"life_expect\": 81.235, \"fertility\": 1.788}]}}, {\"mode\": \"vega-lite\"});\n",
       "</script>"
      ],
      "text/plain": [
       "alt.Chart(...)"
      ]
     },
     "execution_count": 21,
     "metadata": {},
     "output_type": "execute_result"
    }
   ],
   "source": [
    "etiquetas"
   ]
  },
  {
   "cell_type": "code",
   "execution_count": 22,
   "id": "09c0e487-15c4-42d5-b295-f7d0060d01ca",
   "metadata": {},
   "outputs": [
    {
     "data": {
      "text/html": [
       "\n",
       "<div id=\"altair-viz-45dd115a793646f9ada2bdf6e23bb603\"></div>\n",
       "<script type=\"text/javascript\">\n",
       "  (function(spec, embedOpt){\n",
       "    let outputDiv = document.currentScript.previousElementSibling;\n",
       "    if (outputDiv.id !== \"altair-viz-45dd115a793646f9ada2bdf6e23bb603\") {\n",
       "      outputDiv = document.getElementById(\"altair-viz-45dd115a793646f9ada2bdf6e23bb603\");\n",
       "    }\n",
       "    const paths = {\n",
       "      \"vega\": \"https://cdn.jsdelivr.net/npm//vega@5?noext\",\n",
       "      \"vega-lib\": \"https://cdn.jsdelivr.net/npm//vega-lib?noext\",\n",
       "      \"vega-lite\": \"https://cdn.jsdelivr.net/npm//vega-lite@4.17.0?noext\",\n",
       "      \"vega-embed\": \"https://cdn.jsdelivr.net/npm//vega-embed@6?noext\",\n",
       "    };\n",
       "\n",
       "    function loadScript(lib) {\n",
       "      return new Promise(function(resolve, reject) {\n",
       "        var s = document.createElement('script');\n",
       "        s.src = paths[lib];\n",
       "        s.async = true;\n",
       "        s.onload = () => resolve(paths[lib]);\n",
       "        s.onerror = () => reject(`Error loading script: ${paths[lib]}`);\n",
       "        document.getElementsByTagName(\"head\")[0].appendChild(s);\n",
       "      });\n",
       "    }\n",
       "\n",
       "    function showError(err) {\n",
       "      outputDiv.innerHTML = `<div class=\"error\" style=\"color:red;\">${err}</div>`;\n",
       "      throw err;\n",
       "    }\n",
       "\n",
       "    function displayChart(vegaEmbed) {\n",
       "      vegaEmbed(outputDiv, spec, embedOpt)\n",
       "        .catch(err => showError(`Javascript Error: ${err.message}<br>This usually means there's a typo in your chart specification. See the javascript console for the full traceback.`));\n",
       "    }\n",
       "\n",
       "    if(typeof define === \"function\" && define.amd) {\n",
       "      requirejs.config({paths});\n",
       "      require([\"vega-embed\"], displayChart, err => showError(`Error loading script: ${err.message}`));\n",
       "    } else if (typeof vegaEmbed === \"function\") {\n",
       "      displayChart(vegaEmbed);\n",
       "    } else {\n",
       "      loadScript(\"vega\")\n",
       "        .then(() => loadScript(\"vega-lite\"))\n",
       "        .then(() => loadScript(\"vega-embed\"))\n",
       "        .catch(showError)\n",
       "        .then(() => displayChart(vegaEmbed));\n",
       "    }\n",
       "  })({\"config\": {\"view\": {\"continuousWidth\": 400, \"continuousHeight\": 300}}, \"data\": {\"name\": \"data-349a86be8b76b1da5c8edf9eecd902a7\"}, \"mark\": {\"type\": \"text\", \"dy\": -5}, \"encoding\": {\"text\": {\"field\": \"pop\", \"format\": \".2s\", \"type\": \"quantitative\"}, \"tooltip\": {\"field\": \"pop\", \"type\": \"quantitative\"}, \"x\": {\"axis\": {\"labelAngle\": 0}, \"field\": \"year\", \"title\": \"\", \"type\": \"ordinal\"}, \"y\": {\"axis\": {\"domain\": false, \"format\": \".2s\", \"grid\": false, \"labels\": false, \"ticks\": false}, \"field\": \"pop\", \"title\": \"\", \"type\": \"quantitative\"}}, \"title\": \"Poblacion de Norway de 1955 a 2005\", \"width\": 600, \"$schema\": \"https://vega.github.io/schema/vega-lite/v4.17.0.json\", \"datasets\": {\"data-349a86be8b76b1da5c8edf9eecd902a7\": [{\"year\": 1955, \"country\": \"Norway\", \"cluster\": 1, \"pop\": 3427409, \"life_expect\": 73.44, \"fertility\": 2.8369999999999997}, {\"year\": 1960, \"country\": \"Norway\", \"cluster\": 1, \"pop\": 3581239, \"life_expect\": 73.47, \"fertility\": 2.898}, {\"year\": 1965, \"country\": \"Norway\", \"cluster\": 1, \"pop\": 3723153, \"life_expect\": 74.08, \"fertility\": 2.719}, {\"year\": 1970, \"country\": \"Norway\", \"cluster\": 1, \"pop\": 3877386, \"life_expect\": 74.34, \"fertility\": 2.248}, {\"year\": 1975, \"country\": \"Norway\", \"cluster\": 1, \"pop\": 4007313, \"life_expect\": 75.37, \"fertility\": 1.81}, {\"year\": 1980, \"country\": \"Norway\", \"cluster\": 1, \"pop\": 4085620, \"life_expect\": 75.97, \"fertility\": 1.687}, {\"year\": 1985, \"country\": \"Norway\", \"cluster\": 1, \"pop\": 4152419, \"life_expect\": 75.89, \"fertility\": 1.8}, {\"year\": 1990, \"country\": \"Norway\", \"cluster\": 1, \"pop\": 4242006, \"life_expect\": 77.32, \"fertility\": 1.8860000000000001}, {\"year\": 1995, \"country\": \"Norway\", \"cluster\": 1, \"pop\": 4359101, \"life_expect\": 78.32, \"fertility\": 1.853}, {\"year\": 2000, \"country\": \"Norway\", \"cluster\": 1, \"pop\": 4492400, \"life_expect\": 79.05, \"fertility\": 1.8010000000000002}, {\"year\": 2005, \"country\": \"Norway\", \"cluster\": 1, \"pop\": 4593041, \"life_expect\": 80.196, \"fertility\": 1.8479999999999999}]}}, {\"mode\": \"vega-lite\"});\n",
       "</script>"
      ],
      "text/plain": [
       "alt.Chart(...)"
      ]
     },
     "execution_count": 22,
     "metadata": {},
     "output_type": "execute_result"
    }
   ],
   "source": [
    "etiquetas_dos"
   ]
  },
  {
   "cell_type": "code",
   "execution_count": 23,
   "id": "233a1529-6b46-4f0d-b907-88d8957ce76e",
   "metadata": {},
   "outputs": [],
   "source": [
    "chart_final = barras + etiquetas"
   ]
  },
  {
   "cell_type": "code",
   "execution_count": 24,
   "id": "f8ce76cd-5d87-4755-8170-0d6f85ea7342",
   "metadata": {},
   "outputs": [],
   "source": [
    "chart_final_dos = barras_dos + etiquetas_dos"
   ]
  },
  {
   "cell_type": "code",
   "execution_count": 25,
   "id": "5d203ca9-702b-4009-a93f-a1ad690f1c00",
   "metadata": {},
   "outputs": [
    {
     "data": {
      "text/html": [
       "\n",
       "<div id=\"altair-viz-24074bfe6f734be0a77e10711019324d\"></div>\n",
       "<script type=\"text/javascript\">\n",
       "  (function(spec, embedOpt){\n",
       "    let outputDiv = document.currentScript.previousElementSibling;\n",
       "    if (outputDiv.id !== \"altair-viz-24074bfe6f734be0a77e10711019324d\") {\n",
       "      outputDiv = document.getElementById(\"altair-viz-24074bfe6f734be0a77e10711019324d\");\n",
       "    }\n",
       "    const paths = {\n",
       "      \"vega\": \"https://cdn.jsdelivr.net/npm//vega@5?noext\",\n",
       "      \"vega-lib\": \"https://cdn.jsdelivr.net/npm//vega-lib?noext\",\n",
       "      \"vega-lite\": \"https://cdn.jsdelivr.net/npm//vega-lite@4.17.0?noext\",\n",
       "      \"vega-embed\": \"https://cdn.jsdelivr.net/npm//vega-embed@6?noext\",\n",
       "    };\n",
       "\n",
       "    function loadScript(lib) {\n",
       "      return new Promise(function(resolve, reject) {\n",
       "        var s = document.createElement('script');\n",
       "        s.src = paths[lib];\n",
       "        s.async = true;\n",
       "        s.onload = () => resolve(paths[lib]);\n",
       "        s.onerror = () => reject(`Error loading script: ${paths[lib]}`);\n",
       "        document.getElementsByTagName(\"head\")[0].appendChild(s);\n",
       "      });\n",
       "    }\n",
       "\n",
       "    function showError(err) {\n",
       "      outputDiv.innerHTML = `<div class=\"error\" style=\"color:red;\">${err}</div>`;\n",
       "      throw err;\n",
       "    }\n",
       "\n",
       "    function displayChart(vegaEmbed) {\n",
       "      vegaEmbed(outputDiv, spec, embedOpt)\n",
       "        .catch(err => showError(`Javascript Error: ${err.message}<br>This usually means there's a typo in your chart specification. See the javascript console for the full traceback.`));\n",
       "    }\n",
       "\n",
       "    if(typeof define === \"function\" && define.amd) {\n",
       "      requirejs.config({paths});\n",
       "      require([\"vega-embed\"], displayChart, err => showError(`Error loading script: ${err.message}`));\n",
       "    } else if (typeof vegaEmbed === \"function\") {\n",
       "      displayChart(vegaEmbed);\n",
       "    } else {\n",
       "      loadScript(\"vega\")\n",
       "        .then(() => loadScript(\"vega-lite\"))\n",
       "        .then(() => loadScript(\"vega-embed\"))\n",
       "        .catch(showError)\n",
       "        .then(() => displayChart(vegaEmbed));\n",
       "    }\n",
       "  })({\"config\": {\"view\": {\"continuousWidth\": 400, \"continuousHeight\": 300, \"strokeWidth\": 0}, \"title\": {\"anchor\": \"start\", \"fontSize\": 18}}, \"layer\": [{\"mark\": {\"type\": \"bar\", \"color\": \"#FD8A8A\"}, \"encoding\": {\"tooltip\": {\"field\": \"pop\", \"type\": \"quantitative\"}, \"x\": {\"axis\": {\"labelAngle\": 0}, \"field\": \"year\", \"title\": \"\", \"type\": \"ordinal\"}, \"y\": {\"axis\": {\"domain\": false, \"format\": \".2s\", \"grid\": false, \"labels\": false, \"ticks\": false}, \"field\": \"pop\", \"title\": \"\", \"type\": \"quantitative\"}}, \"title\": \"Poblacion de Australia de 1955 a 2005\", \"width\": 600}, {\"mark\": {\"type\": \"text\", \"dy\": -5}, \"encoding\": {\"text\": {\"field\": \"pop\", \"format\": \".2s\", \"type\": \"quantitative\"}, \"tooltip\": {\"field\": \"pop\", \"type\": \"quantitative\"}, \"x\": {\"axis\": {\"labelAngle\": 0}, \"field\": \"year\", \"title\": \"\", \"type\": \"ordinal\"}, \"y\": {\"axis\": {\"domain\": false, \"format\": \".2s\", \"grid\": false, \"labels\": false, \"ticks\": false}, \"field\": \"pop\", \"title\": \"\", \"type\": \"quantitative\"}}, \"title\": \"Poblacion de Australia de 1955 a 2005\", \"width\": 600}], \"data\": {\"name\": \"data-5378fb20b64e89776241f1c6016803de\"}, \"title\": \"Poblacion de Australia desde 1955 a 2005\", \"width\": 600, \"$schema\": \"https://vega.github.io/schema/vega-lite/v4.17.0.json\", \"datasets\": {\"data-5378fb20b64e89776241f1c6016803de\": [{\"year\": 1955, \"country\": \"Australia\", \"cluster\": 4, \"pop\": 9277087, \"life_expect\": 70.33, \"fertility\": 3.406}, {\"year\": 1960, \"country\": \"Australia\", \"cluster\": 4, \"pop\": 10361273, \"life_expect\": 70.93, \"fertility\": 3.274}, {\"year\": 1965, \"country\": \"Australia\", \"cluster\": 4, \"pop\": 11439384, \"life_expect\": 71.1, \"fertility\": 2.871}, {\"year\": 1970, \"country\": \"Australia\", \"cluster\": 4, \"pop\": 12660160, \"life_expect\": 71.93, \"fertility\": 2.535}, {\"year\": 1975, \"country\": \"Australia\", \"cluster\": 4, \"pop\": 13771400, \"life_expect\": 73.49, \"fertility\": 1.9889999999999999}, {\"year\": 1980, \"country\": \"Australia\", \"cluster\": 4, \"pop\": 14615900, \"life_expect\": 74.74, \"fertility\": 1.907}, {\"year\": 1985, \"country\": \"Australia\", \"cluster\": 4, \"pop\": 15788300, \"life_expect\": 76.32, \"fertility\": 1.859}, {\"year\": 1990, \"country\": \"Australia\", \"cluster\": 4, \"pop\": 17022133, \"life_expect\": 77.56, \"fertility\": 1.8599999999999999}, {\"year\": 1995, \"country\": \"Australia\", \"cluster\": 4, \"pop\": 18116171, \"life_expect\": 78.83, \"fertility\": 1.776}, {\"year\": 2000, \"country\": \"Australia\", \"cluster\": 4, \"pop\": 19164620, \"life_expect\": 80.37, \"fertility\": 1.756}, {\"year\": 2005, \"country\": \"Australia\", \"cluster\": 4, \"pop\": 20090437, \"life_expect\": 81.235, \"fertility\": 1.788}]}}, {\"mode\": \"vega-lite\"});\n",
       "</script>"
      ],
      "text/plain": [
       "alt.LayerChart(...)"
      ]
     },
     "execution_count": 25,
     "metadata": {},
     "output_type": "execute_result"
    }
   ],
   "source": [
    "chart_final.properties(\n",
    "    title = f\"Poblacion de {pais} desde 1955 a 2005\",\n",
    "    width = 600,\n",
    ").configure_title(\n",
    "    fontSize = 18,\n",
    "    anchor = 'start'\n",
    ").configure_view(\n",
    "    strokeWidth = 0\n",
    ")\n"
   ]
  },
  {
   "cell_type": "code",
   "execution_count": 26,
   "id": "f4d2afd5-0b5f-4b10-a987-e5d35b16b2d0",
   "metadata": {},
   "outputs": [
    {
     "data": {
      "text/html": [
       "\n",
       "<div id=\"altair-viz-691753e303814f449ffe12cf4ccb93a7\"></div>\n",
       "<script type=\"text/javascript\">\n",
       "  (function(spec, embedOpt){\n",
       "    let outputDiv = document.currentScript.previousElementSibling;\n",
       "    if (outputDiv.id !== \"altair-viz-691753e303814f449ffe12cf4ccb93a7\") {\n",
       "      outputDiv = document.getElementById(\"altair-viz-691753e303814f449ffe12cf4ccb93a7\");\n",
       "    }\n",
       "    const paths = {\n",
       "      \"vega\": \"https://cdn.jsdelivr.net/npm//vega@5?noext\",\n",
       "      \"vega-lib\": \"https://cdn.jsdelivr.net/npm//vega-lib?noext\",\n",
       "      \"vega-lite\": \"https://cdn.jsdelivr.net/npm//vega-lite@4.17.0?noext\",\n",
       "      \"vega-embed\": \"https://cdn.jsdelivr.net/npm//vega-embed@6?noext\",\n",
       "    };\n",
       "\n",
       "    function loadScript(lib) {\n",
       "      return new Promise(function(resolve, reject) {\n",
       "        var s = document.createElement('script');\n",
       "        s.src = paths[lib];\n",
       "        s.async = true;\n",
       "        s.onload = () => resolve(paths[lib]);\n",
       "        s.onerror = () => reject(`Error loading script: ${paths[lib]}`);\n",
       "        document.getElementsByTagName(\"head\")[0].appendChild(s);\n",
       "      });\n",
       "    }\n",
       "\n",
       "    function showError(err) {\n",
       "      outputDiv.innerHTML = `<div class=\"error\" style=\"color:red;\">${err}</div>`;\n",
       "      throw err;\n",
       "    }\n",
       "\n",
       "    function displayChart(vegaEmbed) {\n",
       "      vegaEmbed(outputDiv, spec, embedOpt)\n",
       "        .catch(err => showError(`Javascript Error: ${err.message}<br>This usually means there's a typo in your chart specification. See the javascript console for the full traceback.`));\n",
       "    }\n",
       "\n",
       "    if(typeof define === \"function\" && define.amd) {\n",
       "      requirejs.config({paths});\n",
       "      require([\"vega-embed\"], displayChart, err => showError(`Error loading script: ${err.message}`));\n",
       "    } else if (typeof vegaEmbed === \"function\") {\n",
       "      displayChart(vegaEmbed);\n",
       "    } else {\n",
       "      loadScript(\"vega\")\n",
       "        .then(() => loadScript(\"vega-lite\"))\n",
       "        .then(() => loadScript(\"vega-embed\"))\n",
       "        .catch(showError)\n",
       "        .then(() => displayChart(vegaEmbed));\n",
       "    }\n",
       "  })({\"config\": {\"view\": {\"continuousWidth\": 400, \"continuousHeight\": 300, \"strokeWidth\": 0}, \"title\": {\"anchor\": \"start\", \"fontSize\": 18}}, \"layer\": [{\"mark\": {\"type\": \"bar\", \"color\": \"#FD8A8A\"}, \"encoding\": {\"tooltip\": {\"field\": \"pop\", \"type\": \"quantitative\"}, \"x\": {\"axis\": {\"labelAngle\": 0}, \"field\": \"year\", \"title\": \"\", \"type\": \"ordinal\"}, \"y\": {\"axis\": {\"domain\": false, \"format\": \".2s\", \"grid\": false, \"labels\": false, \"ticks\": false}, \"field\": \"pop\", \"title\": \"\", \"type\": \"quantitative\"}}, \"title\": \"Poblacion de Norway de 1955 a 2005\", \"width\": 600}, {\"mark\": {\"type\": \"text\", \"dy\": -5}, \"encoding\": {\"text\": {\"field\": \"pop\", \"format\": \".2s\", \"type\": \"quantitative\"}, \"tooltip\": {\"field\": \"pop\", \"type\": \"quantitative\"}, \"x\": {\"axis\": {\"labelAngle\": 0}, \"field\": \"year\", \"title\": \"\", \"type\": \"ordinal\"}, \"y\": {\"axis\": {\"domain\": false, \"format\": \".2s\", \"grid\": false, \"labels\": false, \"ticks\": false}, \"field\": \"pop\", \"title\": \"\", \"type\": \"quantitative\"}}, \"title\": \"Poblacion de Norway de 1955 a 2005\", \"width\": 600}], \"data\": {\"name\": \"data-349a86be8b76b1da5c8edf9eecd902a7\"}, \"title\": \"Poblacion de Norway desde 1955 a 2005\", \"width\": 600, \"$schema\": \"https://vega.github.io/schema/vega-lite/v4.17.0.json\", \"datasets\": {\"data-349a86be8b76b1da5c8edf9eecd902a7\": [{\"year\": 1955, \"country\": \"Norway\", \"cluster\": 1, \"pop\": 3427409, \"life_expect\": 73.44, \"fertility\": 2.8369999999999997}, {\"year\": 1960, \"country\": \"Norway\", \"cluster\": 1, \"pop\": 3581239, \"life_expect\": 73.47, \"fertility\": 2.898}, {\"year\": 1965, \"country\": \"Norway\", \"cluster\": 1, \"pop\": 3723153, \"life_expect\": 74.08, \"fertility\": 2.719}, {\"year\": 1970, \"country\": \"Norway\", \"cluster\": 1, \"pop\": 3877386, \"life_expect\": 74.34, \"fertility\": 2.248}, {\"year\": 1975, \"country\": \"Norway\", \"cluster\": 1, \"pop\": 4007313, \"life_expect\": 75.37, \"fertility\": 1.81}, {\"year\": 1980, \"country\": \"Norway\", \"cluster\": 1, \"pop\": 4085620, \"life_expect\": 75.97, \"fertility\": 1.687}, {\"year\": 1985, \"country\": \"Norway\", \"cluster\": 1, \"pop\": 4152419, \"life_expect\": 75.89, \"fertility\": 1.8}, {\"year\": 1990, \"country\": \"Norway\", \"cluster\": 1, \"pop\": 4242006, \"life_expect\": 77.32, \"fertility\": 1.8860000000000001}, {\"year\": 1995, \"country\": \"Norway\", \"cluster\": 1, \"pop\": 4359101, \"life_expect\": 78.32, \"fertility\": 1.853}, {\"year\": 2000, \"country\": \"Norway\", \"cluster\": 1, \"pop\": 4492400, \"life_expect\": 79.05, \"fertility\": 1.8010000000000002}, {\"year\": 2005, \"country\": \"Norway\", \"cluster\": 1, \"pop\": 4593041, \"life_expect\": 80.196, \"fertility\": 1.8479999999999999}]}}, {\"mode\": \"vega-lite\"});\n",
       "</script>"
      ],
      "text/plain": [
       "alt.LayerChart(...)"
      ]
     },
     "execution_count": 26,
     "metadata": {},
     "output_type": "execute_result"
    }
   ],
   "source": [
    "chart_final_dos.properties(\n",
    "    title = f\"Poblacion de {pais_dos} desde 1955 a 2005\",\n",
    "    width = 600,\n",
    ").configure_title(\n",
    "    fontSize = 18,\n",
    "    anchor = 'start'\n",
    ").configure_view(\n",
    "    strokeWidth = 0\n",
    ")\n"
   ]
  },
  {
   "cell_type": "code",
   "execution_count": 27,
   "id": "cd0b81b0-5f5e-4bdf-9301-eeaa6b46bac1",
   "metadata": {},
   "outputs": [],
   "source": [
    "chart_final_tres = chart_final | chart_final_dos"
   ]
  },
  {
   "cell_type": "code",
   "execution_count": 28,
   "id": "970fcfd3-8067-4c0b-b202-a32bf59d513c",
   "metadata": {},
   "outputs": [
    {
     "data": {
      "text/html": [
       "\n",
       "<div id=\"altair-viz-552f7ee82f8142bfbe693dd345cfb9c6\"></div>\n",
       "<script type=\"text/javascript\">\n",
       "  (function(spec, embedOpt){\n",
       "    let outputDiv = document.currentScript.previousElementSibling;\n",
       "    if (outputDiv.id !== \"altair-viz-552f7ee82f8142bfbe693dd345cfb9c6\") {\n",
       "      outputDiv = document.getElementById(\"altair-viz-552f7ee82f8142bfbe693dd345cfb9c6\");\n",
       "    }\n",
       "    const paths = {\n",
       "      \"vega\": \"https://cdn.jsdelivr.net/npm//vega@5?noext\",\n",
       "      \"vega-lib\": \"https://cdn.jsdelivr.net/npm//vega-lib?noext\",\n",
       "      \"vega-lite\": \"https://cdn.jsdelivr.net/npm//vega-lite@4.17.0?noext\",\n",
       "      \"vega-embed\": \"https://cdn.jsdelivr.net/npm//vega-embed@6?noext\",\n",
       "    };\n",
       "\n",
       "    function loadScript(lib) {\n",
       "      return new Promise(function(resolve, reject) {\n",
       "        var s = document.createElement('script');\n",
       "        s.src = paths[lib];\n",
       "        s.async = true;\n",
       "        s.onload = () => resolve(paths[lib]);\n",
       "        s.onerror = () => reject(`Error loading script: ${paths[lib]}`);\n",
       "        document.getElementsByTagName(\"head\")[0].appendChild(s);\n",
       "      });\n",
       "    }\n",
       "\n",
       "    function showError(err) {\n",
       "      outputDiv.innerHTML = `<div class=\"error\" style=\"color:red;\">${err}</div>`;\n",
       "      throw err;\n",
       "    }\n",
       "\n",
       "    function displayChart(vegaEmbed) {\n",
       "      vegaEmbed(outputDiv, spec, embedOpt)\n",
       "        .catch(err => showError(`Javascript Error: ${err.message}<br>This usually means there's a typo in your chart specification. See the javascript console for the full traceback.`));\n",
       "    }\n",
       "\n",
       "    if(typeof define === \"function\" && define.amd) {\n",
       "      requirejs.config({paths});\n",
       "      require([\"vega-embed\"], displayChart, err => showError(`Error loading script: ${err.message}`));\n",
       "    } else if (typeof vegaEmbed === \"function\") {\n",
       "      displayChart(vegaEmbed);\n",
       "    } else {\n",
       "      loadScript(\"vega\")\n",
       "        .then(() => loadScript(\"vega-lite\"))\n",
       "        .then(() => loadScript(\"vega-embed\"))\n",
       "        .catch(showError)\n",
       "        .then(() => displayChart(vegaEmbed));\n",
       "    }\n",
       "  })({\"config\": {\"view\": {\"continuousWidth\": 400, \"continuousHeight\": 300}}, \"hconcat\": [{\"layer\": [{\"mark\": {\"type\": \"bar\", \"color\": \"#FD8A8A\"}, \"encoding\": {\"tooltip\": {\"field\": \"pop\", \"type\": \"quantitative\"}, \"x\": {\"axis\": {\"labelAngle\": 0}, \"field\": \"year\", \"title\": \"\", \"type\": \"ordinal\"}, \"y\": {\"axis\": {\"domain\": false, \"format\": \".2s\", \"grid\": false, \"labels\": false, \"ticks\": false}, \"field\": \"pop\", \"title\": \"\", \"type\": \"quantitative\"}}, \"title\": \"Poblacion de Australia de 1955 a 2005\", \"width\": 600}, {\"mark\": {\"type\": \"text\", \"dy\": -5}, \"encoding\": {\"text\": {\"field\": \"pop\", \"format\": \".2s\", \"type\": \"quantitative\"}, \"tooltip\": {\"field\": \"pop\", \"type\": \"quantitative\"}, \"x\": {\"axis\": {\"labelAngle\": 0}, \"field\": \"year\", \"title\": \"\", \"type\": \"ordinal\"}, \"y\": {\"axis\": {\"domain\": false, \"format\": \".2s\", \"grid\": false, \"labels\": false, \"ticks\": false}, \"field\": \"pop\", \"title\": \"\", \"type\": \"quantitative\"}}, \"title\": \"Poblacion de Australia de 1955 a 2005\", \"width\": 600}], \"data\": {\"name\": \"data-5378fb20b64e89776241f1c6016803de\"}}, {\"layer\": [{\"mark\": {\"type\": \"bar\", \"color\": \"#FD8A8A\"}, \"encoding\": {\"tooltip\": {\"field\": \"pop\", \"type\": \"quantitative\"}, \"x\": {\"axis\": {\"labelAngle\": 0}, \"field\": \"year\", \"title\": \"\", \"type\": \"ordinal\"}, \"y\": {\"axis\": {\"domain\": false, \"format\": \".2s\", \"grid\": false, \"labels\": false, \"ticks\": false}, \"field\": \"pop\", \"title\": \"\", \"type\": \"quantitative\"}}, \"title\": \"Poblacion de Norway de 1955 a 2005\", \"width\": 600}, {\"mark\": {\"type\": \"text\", \"dy\": -5}, \"encoding\": {\"text\": {\"field\": \"pop\", \"format\": \".2s\", \"type\": \"quantitative\"}, \"tooltip\": {\"field\": \"pop\", \"type\": \"quantitative\"}, \"x\": {\"axis\": {\"labelAngle\": 0}, \"field\": \"year\", \"title\": \"\", \"type\": \"ordinal\"}, \"y\": {\"axis\": {\"domain\": false, \"format\": \".2s\", \"grid\": false, \"labels\": false, \"ticks\": false}, \"field\": \"pop\", \"title\": \"\", \"type\": \"quantitative\"}}, \"title\": \"Poblacion de Norway de 1955 a 2005\", \"width\": 600}], \"data\": {\"name\": \"data-349a86be8b76b1da5c8edf9eecd902a7\"}}], \"$schema\": \"https://vega.github.io/schema/vega-lite/v4.17.0.json\", \"datasets\": {\"data-5378fb20b64e89776241f1c6016803de\": [{\"year\": 1955, \"country\": \"Australia\", \"cluster\": 4, \"pop\": 9277087, \"life_expect\": 70.33, \"fertility\": 3.406}, {\"year\": 1960, \"country\": \"Australia\", \"cluster\": 4, \"pop\": 10361273, \"life_expect\": 70.93, \"fertility\": 3.274}, {\"year\": 1965, \"country\": \"Australia\", \"cluster\": 4, \"pop\": 11439384, \"life_expect\": 71.1, \"fertility\": 2.871}, {\"year\": 1970, \"country\": \"Australia\", \"cluster\": 4, \"pop\": 12660160, \"life_expect\": 71.93, \"fertility\": 2.535}, {\"year\": 1975, \"country\": \"Australia\", \"cluster\": 4, \"pop\": 13771400, \"life_expect\": 73.49, \"fertility\": 1.9889999999999999}, {\"year\": 1980, \"country\": \"Australia\", \"cluster\": 4, \"pop\": 14615900, \"life_expect\": 74.74, \"fertility\": 1.907}, {\"year\": 1985, \"country\": \"Australia\", \"cluster\": 4, \"pop\": 15788300, \"life_expect\": 76.32, \"fertility\": 1.859}, {\"year\": 1990, \"country\": \"Australia\", \"cluster\": 4, \"pop\": 17022133, \"life_expect\": 77.56, \"fertility\": 1.8599999999999999}, {\"year\": 1995, \"country\": \"Australia\", \"cluster\": 4, \"pop\": 18116171, \"life_expect\": 78.83, \"fertility\": 1.776}, {\"year\": 2000, \"country\": \"Australia\", \"cluster\": 4, \"pop\": 19164620, \"life_expect\": 80.37, \"fertility\": 1.756}, {\"year\": 2005, \"country\": \"Australia\", \"cluster\": 4, \"pop\": 20090437, \"life_expect\": 81.235, \"fertility\": 1.788}], \"data-349a86be8b76b1da5c8edf9eecd902a7\": [{\"year\": 1955, \"country\": \"Norway\", \"cluster\": 1, \"pop\": 3427409, \"life_expect\": 73.44, \"fertility\": 2.8369999999999997}, {\"year\": 1960, \"country\": \"Norway\", \"cluster\": 1, \"pop\": 3581239, \"life_expect\": 73.47, \"fertility\": 2.898}, {\"year\": 1965, \"country\": \"Norway\", \"cluster\": 1, \"pop\": 3723153, \"life_expect\": 74.08, \"fertility\": 2.719}, {\"year\": 1970, \"country\": \"Norway\", \"cluster\": 1, \"pop\": 3877386, \"life_expect\": 74.34, \"fertility\": 2.248}, {\"year\": 1975, \"country\": \"Norway\", \"cluster\": 1, \"pop\": 4007313, \"life_expect\": 75.37, \"fertility\": 1.81}, {\"year\": 1980, \"country\": \"Norway\", \"cluster\": 1, \"pop\": 4085620, \"life_expect\": 75.97, \"fertility\": 1.687}, {\"year\": 1985, \"country\": \"Norway\", \"cluster\": 1, \"pop\": 4152419, \"life_expect\": 75.89, \"fertility\": 1.8}, {\"year\": 1990, \"country\": \"Norway\", \"cluster\": 1, \"pop\": 4242006, \"life_expect\": 77.32, \"fertility\": 1.8860000000000001}, {\"year\": 1995, \"country\": \"Norway\", \"cluster\": 1, \"pop\": 4359101, \"life_expect\": 78.32, \"fertility\": 1.853}, {\"year\": 2000, \"country\": \"Norway\", \"cluster\": 1, \"pop\": 4492400, \"life_expect\": 79.05, \"fertility\": 1.8010000000000002}, {\"year\": 2005, \"country\": \"Norway\", \"cluster\": 1, \"pop\": 4593041, \"life_expect\": 80.196, \"fertility\": 1.8479999999999999}]}}, {\"mode\": \"vega-lite\"});\n",
       "</script>"
      ],
      "text/plain": [
       "alt.HConcatChart(...)"
      ]
     },
     "execution_count": 28,
     "metadata": {},
     "output_type": "execute_result"
    }
   ],
   "source": [
    "chart_final_tres"
   ]
  },
  {
   "cell_type": "markdown",
   "id": "9c27044d-9ec3-4f49-907d-58b176529dd2",
   "metadata": {},
   "source": [
    "# Fasetas y Tooltips"
   ]
  },
  {
   "cell_type": "code",
   "execution_count": 55,
   "id": "ec2a7d4c-4a0a-4266-832b-090d1aa3996b",
   "metadata": {},
   "outputs": [],
   "source": [
    "imperial_country = ['United Kingdom', 'United States','Netherlands']\n",
    "df_imperial = data[data['country'].isin(imperial_country)]"
   ]
  },
  {
   "cell_type": "code",
   "execution_count": 78,
   "id": "1f12a15c-4f40-4af0-bd1c-fa30b47b0b37",
   "metadata": {},
   "outputs": [
    {
     "data": {
      "text/html": [
       "\n",
       "<div id=\"altair-viz-7ea47d0b04074ad4900a77df7dc5a660\"></div>\n",
       "<script type=\"text/javascript\">\n",
       "  (function(spec, embedOpt){\n",
       "    let outputDiv = document.currentScript.previousElementSibling;\n",
       "    if (outputDiv.id !== \"altair-viz-7ea47d0b04074ad4900a77df7dc5a660\") {\n",
       "      outputDiv = document.getElementById(\"altair-viz-7ea47d0b04074ad4900a77df7dc5a660\");\n",
       "    }\n",
       "    const paths = {\n",
       "      \"vega\": \"https://cdn.jsdelivr.net/npm//vega@5?noext\",\n",
       "      \"vega-lib\": \"https://cdn.jsdelivr.net/npm//vega-lib?noext\",\n",
       "      \"vega-lite\": \"https://cdn.jsdelivr.net/npm//vega-lite@4.17.0?noext\",\n",
       "      \"vega-embed\": \"https://cdn.jsdelivr.net/npm//vega-embed@6?noext\",\n",
       "    };\n",
       "\n",
       "    function loadScript(lib) {\n",
       "      return new Promise(function(resolve, reject) {\n",
       "        var s = document.createElement('script');\n",
       "        s.src = paths[lib];\n",
       "        s.async = true;\n",
       "        s.onload = () => resolve(paths[lib]);\n",
       "        s.onerror = () => reject(`Error loading script: ${paths[lib]}`);\n",
       "        document.getElementsByTagName(\"head\")[0].appendChild(s);\n",
       "      });\n",
       "    }\n",
       "\n",
       "    function showError(err) {\n",
       "      outputDiv.innerHTML = `<div class=\"error\" style=\"color:red;\">${err}</div>`;\n",
       "      throw err;\n",
       "    }\n",
       "\n",
       "    function displayChart(vegaEmbed) {\n",
       "      vegaEmbed(outputDiv, spec, embedOpt)\n",
       "        .catch(err => showError(`Javascript Error: ${err.message}<br>This usually means there's a typo in your chart specification. See the javascript console for the full traceback.`));\n",
       "    }\n",
       "\n",
       "    if(typeof define === \"function\" && define.amd) {\n",
       "      requirejs.config({paths});\n",
       "      require([\"vega-embed\"], displayChart, err => showError(`Error loading script: ${err.message}`));\n",
       "    } else if (typeof vegaEmbed === \"function\") {\n",
       "      displayChart(vegaEmbed);\n",
       "    } else {\n",
       "      loadScript(\"vega\")\n",
       "        .then(() => loadScript(\"vega-lite\"))\n",
       "        .then(() => loadScript(\"vega-embed\"))\n",
       "        .catch(showError)\n",
       "        .then(() => displayChart(vegaEmbed));\n",
       "    }\n",
       "  })({\"config\": {\"view\": {\"continuousWidth\": 400, \"continuousHeight\": 300, \"strokeWidth\": 0}, \"title\": {\"anchor\": \"start\", \"fontSize\": 18}}, \"data\": {\"name\": \"data-e22787501e90e98d9beef899521acfb2\"}, \"mark\": {\"type\": \"bar\", \"color\": \"#FD8A8A\"}, \"encoding\": {\"column\": {\"field\": \"country\", \"title\": \"ultimos imperios\", \"type\": \"nominal\"}, \"tooltip\": [{\"field\": \"country\", \"title\": \"pais\", \"type\": \"nominal\"}, {\"field\": \"year\", \"title\": \"a\\u00f1o\", \"type\": \"ordinal\"}, {\"field\": \"pop\", \"format\": \".4s\", \"title\": \"poblacion\", \"type\": \"quantitative\"}], \"x\": {\"axis\": {\"labelAngle\": 0}, \"field\": \"year\", \"title\": \"\", \"type\": \"ordinal\"}, \"y\": {\"axis\": {\"format\": \".2s\", \"grid\": false, \"labelAngle\": 0, \"titleAnchor\": \"end\", \"titleAngle\": 0}, \"field\": \"pop\", \"title\": \"Poblacion\", \"type\": \"quantitative\"}}, \"title\": \"imperios economicos\", \"width\": 300, \"$schema\": \"https://vega.github.io/schema/vega-lite/v4.17.0.json\", \"datasets\": {\"data-e22787501e90e98d9beef899521acfb2\": [{\"year\": 1955, \"country\": \"Netherlands\", \"cluster\": 1, \"pop\": 10750842, \"life_expect\": 72.99, \"fertility\": 3.095}, {\"year\": 1960, \"country\": \"Netherlands\", \"cluster\": 1, \"pop\": 11486000, \"life_expect\": 73.23, \"fertility\": 3.168}, {\"year\": 1965, \"country\": \"Netherlands\", \"cluster\": 1, \"pop\": 12292000, \"life_expect\": 73.82, \"fertility\": 2.797}, {\"year\": 1970, \"country\": \"Netherlands\", \"cluster\": 1, \"pop\": 13032335, \"life_expect\": 73.75, \"fertility\": 2.059}, {\"year\": 1975, \"country\": \"Netherlands\", \"cluster\": 1, \"pop\": 13653438, \"life_expect\": 75.24, \"fertility\": 1.596}, {\"year\": 1980, \"country\": \"Netherlands\", \"cluster\": 1, \"pop\": 14143901, \"life_expect\": 76.05, \"fertility\": 1.5150000000000001}, {\"year\": 1985, \"country\": \"Netherlands\", \"cluster\": 1, \"pop\": 14491380, \"life_expect\": 76.83, \"fertility\": 1.5550000000000002}, {\"year\": 1990, \"country\": \"Netherlands\", \"cluster\": 1, \"pop\": 14951510, \"life_expect\": 77.42, \"fertility\": 1.583}, {\"year\": 1995, \"country\": \"Netherlands\", \"cluster\": 1, \"pop\": 15459054, \"life_expect\": 78.03, \"fertility\": 1.6}, {\"year\": 2000, \"country\": \"Netherlands\", \"cluster\": 1, \"pop\": 15907853, \"life_expect\": 78.53, \"fertility\": 1.726}, {\"year\": 2005, \"country\": \"Netherlands\", \"cluster\": 1, \"pop\": 16407491, \"life_expect\": 79.762, \"fertility\": 1.721}, {\"year\": 1955, \"country\": \"United Kingdom\", \"cluster\": 1, \"pop\": 50946000, \"life_expect\": 70.42, \"fertility\": 2.49}, {\"year\": 1960, \"country\": \"United Kingdom\", \"cluster\": 1, \"pop\": 52372000, \"life_expect\": 70.76, \"fertility\": 2.81}, {\"year\": 1965, \"country\": \"United Kingdom\", \"cluster\": 1, \"pop\": 54350000, \"life_expect\": 71.36, \"fertility\": 2.52}, {\"year\": 1970, \"country\": \"United Kingdom\", \"cluster\": 1, \"pop\": 55632000, \"life_expect\": 72.01, \"fertility\": 2.04}, {\"year\": 1975, \"country\": \"United Kingdom\", \"cluster\": 1, \"pop\": 56215000, \"life_expect\": 72.76, \"fertility\": 1.72}, {\"year\": 1980, \"country\": \"United Kingdom\", \"cluster\": 1, \"pop\": 56314000, \"life_expect\": 74.04, \"fertility\": 1.8}, {\"year\": 1985, \"country\": \"United Kingdom\", \"cluster\": 1, \"pop\": 56620240, \"life_expect\": 75.007, \"fertility\": 1.81}, {\"year\": 1990, \"country\": \"United Kingdom\", \"cluster\": 1, \"pop\": 57493307, \"life_expect\": 76.42, \"fertility\": 1.78}, {\"year\": 1995, \"country\": \"United Kingdom\", \"cluster\": 1, \"pop\": 58426014, \"life_expect\": 77.218, \"fertility\": 1.7000000000000002}, {\"year\": 2000, \"country\": \"United Kingdom\", \"cluster\": 1, \"pop\": 59522468, \"life_expect\": 78.471, \"fertility\": 1.695}, {\"year\": 2005, \"country\": \"United Kingdom\", \"cluster\": 1, \"pop\": 60441457, \"life_expect\": 79.425, \"fertility\": 1.815}, {\"year\": 1955, \"country\": \"United States\", \"cluster\": 3, \"pop\": 165931000, \"life_expect\": 69.49, \"fertility\": 3.706}, {\"year\": 1960, \"country\": \"United States\", \"cluster\": 3, \"pop\": 180671000, \"life_expect\": 70.21, \"fertility\": 3.314}, {\"year\": 1965, \"country\": \"United States\", \"cluster\": 3, \"pop\": 194303000, \"life_expect\": 70.76, \"fertility\": 2.545}, {\"year\": 1970, \"country\": \"United States\", \"cluster\": 3, \"pop\": 205052000, \"life_expect\": 71.34, \"fertility\": 2.016}, {\"year\": 1975, \"country\": \"United States\", \"cluster\": 3, \"pop\": 215973000, \"life_expect\": 73.38, \"fertility\": 1.788}, {\"year\": 1980, \"country\": \"United States\", \"cluster\": 3, \"pop\": 227726463, \"life_expect\": 74.65, \"fertility\": 1.8250000000000002}, {\"year\": 1985, \"country\": \"United States\", \"cluster\": 3, \"pop\": 238466283, \"life_expect\": 75.02, \"fertility\": 1.924}, {\"year\": 1990, \"country\": \"United States\", \"cluster\": 3, \"pop\": 250131894, \"life_expect\": 76.09, \"fertility\": 2.025}, {\"year\": 1995, \"country\": \"United States\", \"cluster\": 3, \"pop\": 266557091, \"life_expect\": 76.81, \"fertility\": 1.994}, {\"year\": 2000, \"country\": \"United States\", \"cluster\": 3, \"pop\": 282338631, \"life_expect\": 77.31, \"fertility\": 2.038}, {\"year\": 2005, \"country\": \"United States\", \"cluster\": 3, \"pop\": 295734134, \"life_expect\": 78.242, \"fertility\": 2.054}]}}, {\"mode\": \"vega-lite\"});\n",
       "</script>"
      ],
      "text/plain": [
       "alt.Chart(...)"
      ]
     },
     "execution_count": 78,
     "metadata": {},
     "output_type": "execute_result"
    }
   ],
   "source": [
    " alt.Chart(df_imperial).mark_bar(color = '#FD8A8A').encode(\n",
    "    x= alt.X('year:O',title='',axis= alt.Axis(labelAngle=0)),\n",
    "    y= alt.Y('pop:Q',title='Poblacion',axis=alt.Axis(format = '.2s' ,titleAnchor = 'end',titleAngle = 0 ,labelAngle = 0 ,grid = False) ),\n",
    "    column = alt.Column('country', title = 'ultimos imperios'),\n",
    "    tooltip =[alt.Tooltip('country',title ='pais'),alt.Tooltip('year:O', title= 'año'),alt.Tooltip( 'pop:Q', format = '.4s',title = 'poblacion'), ]\n",
    " ).properties(\n",
    "    title = 'imperios economicos', \n",
    "    width = 300,\n",
    ").configure_title(\n",
    "    fontSize = 18,\n",
    "    anchor = 'start'\n",
    ").configure_view(\n",
    "    strokeWidth = 0\n",
    ")\n"
   ]
  },
  {
   "cell_type": "code",
   "execution_count": null,
   "id": "83b15795-e17d-4bd1-94f6-e50cb823a367",
   "metadata": {},
   "outputs": [],
   "source": []
  },
  {
   "cell_type": "code",
   "execution_count": null,
   "id": "aec29b77-da44-4ea6-8d4e-ef08116d3459",
   "metadata": {},
   "outputs": [],
   "source": []
  }
 ],
 "metadata": {
  "kernelspec": {
   "display_name": "Python 3 (ipykernel)",
   "language": "python",
   "name": "python3"
  },
  "language_info": {
   "codemirror_mode": {
    "name": "ipython",
    "version": 3
   },
   "file_extension": ".py",
   "mimetype": "text/x-python",
   "name": "python",
   "nbconvert_exporter": "python",
   "pygments_lexer": "ipython3",
   "version": "3.11.0"
  }
 },
 "nbformat": 4,
 "nbformat_minor": 5
}
